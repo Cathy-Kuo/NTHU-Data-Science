{
 "cells": [
  {
   "cell_type": "code",
   "execution_count": 1,
   "metadata": {
    "scrolled": false
   },
   "outputs": [],
   "source": [
    "import requests\n",
    "from bs4 import BeautifulSoup\n",
    "f = open(\"input_hw1_2.txt\")\n",
    "lines = f.readlines()\n",
    "output = open(\"106062212_hw1_output.txt\",'w+', encoding='UTF-8') \n",
    "for line in lines:\n",
    "    time = 3\n",
    "    add = line\n",
    "    route = add.strip()\n",
    "    while(time>=0):\n",
    "        addr = \"https://www.blockchain.com/eth/address/\" + add.strip() + \"?view=standard\"\n",
    "        if time<3:\n",
    "            r = \" -> \"+ add.strip()\n",
    "            route+=r\n",
    "        r = requests.get(addr)\n",
    "        soup = BeautifulSoup(r.text,\"html.parser\")\n",
    "        spans = soup.find(\"div\", class_ = 'hnfgic-0 blXlQu').find_all('span')\n",
    "        for i in range(2, len(spans), 2):\n",
    "            attr = spans[i].text.strip()+': '+spans[i+1].text.strip()\n",
    "            print(attr, file = output)\n",
    "        given_id = []\n",
    "        given_date = []\n",
    "        given_amount = []\n",
    "        directs = soup.find_all(\"div\", class_ = 'sc-1fp9csv-0 gkLWFf')\n",
    "        for direct in directs:\n",
    "            given_date.append(direct.find(\"span\", class_ = 'sc-1ryi78w-0 bFGdFC sc-16b9dsl-1 iIOvXh u3ufsr-0 gXDEBk').text.strip())\n",
    "            given = direct.find_all(\"a\", class_ = 'sc-1r996ns-0 dEMBMB sc-1tbyx6t-1 gzmhhS iklhnl-0 dVkJbV')\n",
    "            given_id.append(given[2].text.strip())\n",
    "            try:\n",
    "                given_amount.append(direct.find(\"span\", class_ = 'sc-1ryi78w-0 bFGdFC sc-16b9dsl-1 iIOvXh u3ufsr-0 gXDEBk sc-85fclk-0 gskKpd').text.strip()) \n",
    "            except:\n",
    "                given_amount.append(' ')\n",
    "        tar = len(given_amount)-1\n",
    "        while given_amount[tar]==\" \":\n",
    "            tar-=1\n",
    "            if tar==-1:\n",
    "                print(\"--------------------------------------------------------------------------\", file = output)\n",
    "                break\n",
    "        if (tar==-1):\n",
    "            break\n",
    "        else:\n",
    "            time-=1\n",
    "            add = given_id[tar]\n",
    "        print (\"Date: \" + given_date[tar], file = output)\n",
    "        print(\"To: \" + given_id[tar], file = output)\n",
    "        print(\"Amount: \" + given_amount[tar], file = output)\n",
    "        print(\"--------------------------------------------------------------------------\", file = output)\n",
    "    print(route, file = output)\n",
    "    print(\"--------------------------------------------------------------------------\", file = output)\n",
    "output.close()        \n",
    "f.close()"
   ]
  },
  {
   "cell_type": "code",
   "execution_count": null,
   "metadata": {},
   "outputs": [],
   "source": []
  }
 ],
 "metadata": {
  "kernelspec": {
   "display_name": "Python 3",
   "language": "python",
   "name": "python3"
  },
  "language_info": {
   "codemirror_mode": {
    "name": "ipython",
    "version": 3
   },
   "file_extension": ".py",
   "mimetype": "text/x-python",
   "name": "python",
   "nbconvert_exporter": "python",
   "pygments_lexer": "ipython3",
   "version": "3.7.4"
  }
 },
 "nbformat": 4,
 "nbformat_minor": 2
}
