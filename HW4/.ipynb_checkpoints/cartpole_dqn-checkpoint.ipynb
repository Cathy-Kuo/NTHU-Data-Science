{
 "cells": [
  {
   "cell_type": "code",
   "execution_count": 1,
   "metadata": {},
   "outputs": [],
   "source": [
    "import gym\n",
    "import torch\n",
    "import torch.nn as nn\n",
    "import torch.nn.functional as F\n",
    "import numpy as np\n",
    "import math\n",
    "import random\n",
    "from collections import namedtuple\n",
    "import warnings\n",
    "from tqdm import tqdm_notebook as tqdm\n",
    "warnings.filterwarnings('ignore')"
   ]
  },
  {
   "cell_type": "code",
   "execution_count": 2,
   "metadata": {},
   "outputs": [],
   "source": [
    "env = gym.make('LunarLander-v2')"
   ]
  },
  {
   "cell_type": "code",
   "execution_count": 3,
   "metadata": {},
   "outputs": [
    {
     "data": {
      "text/plain": [
       "(8, 4)"
      ]
     },
     "execution_count": 3,
     "metadata": {},
     "output_type": "execute_result"
    }
   ],
   "source": [
    "num_state = env.observation_space.shape[0]\n",
    "num_action = env.action_space.n\n",
    "num_state, num_action"
   ]
  },
  {
   "cell_type": "code",
   "execution_count": 4,
   "metadata": {},
   "outputs": [],
   "source": [
    "class network(nn.Module):\n",
    "    \n",
    "    def __init__(self , num_state , num_action):\n",
    "        \n",
    "        super().__init__()\n",
    "        self.fc1 = nn.Linear(num_state , 50)\n",
    "        self.fc2 = nn.Linear(50,64)\n",
    "        self.fc3 = nn.Linear(64,64)\n",
    "        self.out = nn.Linear(64 , num_action)\n",
    "        \n",
    "    def forward(self , x):\n",
    "        x = F.relu(self.fc1(x))\n",
    "        x = F.relu(self.fc2(x))\n",
    "        x = F.relu(self.fc3(x))\n",
    "        x = self.out(x)\n",
    "        return x\n",
    "\n",
    "class ReplayBuffer(object):\n",
    "    '''\n",
    "    \n",
    "    This code is copied from openAI baselines\n",
    "    https://github.com/openai/baselines/blob/master/baselines/deepq/replay_buffer.py\n",
    "    '''\n",
    "    def __init__(self, size):\n",
    "        self._storage = []\n",
    "        self._maxsize = size\n",
    "        self._next_idx = 0\n",
    "\n",
    "    def __len__(self):\n",
    "        return len(self._storage)\n",
    "\n",
    "    def add(self, obs_t, action, reward, obs_tp1, done):\n",
    "        \n",
    "        data = (obs_t, action, reward, obs_tp1, done)\n",
    "\n",
    "        if self._next_idx >= len(self._storage):\n",
    "            self._storage.append(data)\n",
    "        else:\n",
    "            self._storage[self._next_idx] = data\n",
    "        self._next_idx = (self._next_idx + 1) % self._maxsize\n",
    "\n",
    "    def _encode_sample(self, idxes , dtype = np.float32):\n",
    "        \n",
    "        obses_t, actions, rewards, obses_tp1, dones = [], [], [], [], []\n",
    "        for i in idxes:\n",
    "            data = self._storage[i]\n",
    "            obs_t, action, reward, obs_tp1, done = data\n",
    "            obses_t.append(np.array(obs_t, copy=False,dtype=dtype))\n",
    "            actions.append(np.array(action, copy=False,dtype=np.long))\n",
    "            rewards.append(reward)\n",
    "            obses_tp1.append(np.array(obs_tp1, copy=False,dtype=dtype))\n",
    "            dones.append(done)\n",
    "        return np.array(obses_t,dtype=dtype), np.array(actions , dtype = np.long), \\\n",
    "    np.array(rewards  ,dtype=dtype), np.array(obses_tp1,dtype=dtype), np.array(dones , dtype = bool)\n",
    "    \n",
    "    \n",
    "    def sample(self, batch_size):\n",
    "        idxes = [random.randint(0, len(self._storage) - 1) for _ in range(batch_size)]\n",
    "        return self._encode_sample(idxes)\n",
    "\n",
    "    \n",
    "class Agent():\n",
    "    \n",
    "    def __init__(self , num_state , num_action):\n",
    "        \n",
    "        self.policy_network = network(num_state , num_action)\n",
    "        self.target_network = network(num_state , num_action)\n",
    "        \n",
    "        self.target_network.load_state_dict(self.policy_network.state_dict())\n",
    "        \n",
    "        self.steps_done = 0\n",
    "        self.num_state = num_state\n",
    "        self.num_action = num_action\n",
    "        \n",
    "        self.EPS_END = 0.05\n",
    "        self.EPS_START = 0.999\n",
    "        \n",
    "        self.EPS_DECAY = 1000\n",
    "        self.batch_size = 64\n",
    "        self.buffer = ReplayBuffer( 4000 )\n",
    "        self.optimizer = torch.optim.Adam(self.policy_network.parameters()   , amsgrad=True)\n",
    "        \n",
    "    def take_action(self , x , is_testing = False ) :\n",
    "        eps_threshold = self.EPS_END + (self.EPS_START - self.EPS_END) * \\\n",
    "            math.exp(-1. * self.steps_done / self.EPS_DECAY)\n",
    "        \n",
    "        x = x.astype(np.float32)\n",
    "        x = torch.from_numpy(x)\n",
    "        rand_val = np.random.uniform()\n",
    "        if rand_val > eps_threshold or is_testing == True:\n",
    "            val = self.policy_network(x)\n",
    "            action = torch.argmax(val).item()\n",
    "            \n",
    "        else:\n",
    "            action = np.random.randint(0 , self.num_action )\n",
    "        \n",
    "        if is_testing == False:\n",
    "            self.steps_done += 1\n",
    "        \n",
    "        return action\n",
    "            \n",
    "    \n",
    "    def store_transition(self, state , action , reward , next_state , done ):\n",
    "        \n",
    "        self.buffer.add(state , action , reward , next_state , done)\n",
    "    \n",
    "    def update_parameters(self):\n",
    "        \n",
    "        if len(self.buffer) < self.batch_size:\n",
    "            return \n",
    "        \n",
    "        loss_fn = torch.nn.MSELoss(reduction = 'mean')\n",
    "        \n",
    "        batch = self.buffer.sample(self.batch_size)\n",
    "        states , actions , rewards , next_states , dones = batch\n",
    "        states = torch.from_numpy(states)\n",
    "        actions = torch.from_numpy(actions).view(-1,1)\n",
    "        rewards = torch.from_numpy(rewards)\n",
    "        next_states = torch.from_numpy(next_states)\n",
    "        actions = actions.long()\n",
    "        \n",
    "        non_final_mask = torch.tensor(tuple(map(lambda s : s != True, dones)),dtype = torch.bool)\n",
    "        non_final_next_state = next_states[non_final_mask]\n",
    "        \n",
    "        \n",
    "        pred_q = self.policy_network(states).gather(1 , actions).view(-1) \n",
    "        \n",
    "        \n",
    "        next_state_value = torch.zeros(self.batch_size).detach()\n",
    "        next_state_value[non_final_mask] = self.target_network(non_final_next_state).max(1)[0]\n",
    "        expected_q = (next_state_value + rewards).detach()\n",
    "        \n",
    "        loss = loss_fn(pred_q , expected_q)\n",
    "        \n",
    "        self.optimizer.zero_grad()\n",
    "        loss.backward()\n",
    "        self.optimizer.step()\n",
    "        \n",
    "    def update_target_weight(self):\n",
    "        self.target_network.load_state_dict(self.policy_network.state_dict())\n"
   ]
  },
  {
   "cell_type": "code",
   "execution_count": 5,
   "metadata": {},
   "outputs": [],
   "source": [
    "from PIL import Image\n",
    "import time\n",
    "def get_snap_shot(agent  , env_name = 'LunarLander-v2' , gif_filename = None):\n",
    "    try:\n",
    "        \n",
    "        if gif_filename != None:\n",
    "            frames = []\n",
    "        \n",
    "        env = gym.make(env_name)\n",
    "        state = env.reset()\n",
    "        done = False\n",
    "        rew_sum = 0.0\n",
    "        while done == False:\n",
    "            if gif_filename != None:\n",
    "                frames.append(Image.fromarray(env.render(mode='rgb_array')))\n",
    "            else:\n",
    "                env.render()\n",
    "            action = agent.take_action(state , is_testing = True)\n",
    "            next_state , reward , done , _ = env.step(action)\n",
    "            rew_sum += reward\n",
    "            state = next_state[:]\n",
    "        print('total reward',rew_sum)\n",
    "        \n",
    "        if gif_filename != None:\n",
    "            with open(gif_filename,'wb') as f:\n",
    "                im = Image.new('RGB', frames[0].size)\n",
    "                im.save(f, save_all=True, append_images=frames)\n",
    "        time.sleep(1.5) #Prevent kernel dead\n",
    "        \n",
    "    finally:\n",
    "        env.close()\n",
    "        \n",
    "        "
   ]
  },
  {
   "cell_type": "code",
   "execution_count": 6,
   "metadata": {
    "scrolled": false
   },
   "outputs": [
    {
     "data": {
      "application/vnd.jupyter.widget-view+json": {
       "model_id": "bdd053deb88b4924a2f804e3086ae3cb",
       "version_major": 2,
       "version_minor": 0
      },
      "text/plain": [
       "HBox(children=(IntProgress(value=0, max=1000), HTML(value='')))"
      ]
     },
     "metadata": {},
     "output_type": "display_data"
    },
    {
     "name": "stdout",
     "output_type": "stream",
     "text": [
      "total reward -526.8267636862431\n",
      "total reward -300.4877287483225\n",
      "total reward -2.8568056508580497\n",
      "total reward -288.5259975487262\n",
      "total reward -173.73487879357316\n",
      "total reward -108.6103762837467\n",
      "total reward -185.82104463153996\n",
      "total reward -109.29211814913506\n",
      "total reward -188.77131915699542\n",
      "total reward -244.54928317634437\n",
      "total reward -130.85402967553782\n",
      "total reward -79.7699081013277\n",
      "total reward 18.154310037068385\n",
      "total reward -42.48996488611586\n",
      "total reward -48.11813367163191\n",
      "total reward -268.50102718757717\n",
      "total reward -15.79713845066064\n",
      "total reward -28.837529439951055\n",
      "total reward 9.11777136069469\n",
      "total reward -17.43315510795584\n",
      "\n"
     ]
    }
   ],
   "source": [
    "agent = Agent(num_state , num_action)\n",
    "reward_history = []\n",
    "try:\n",
    "    env = gym.make('LunarLander-v2')\n",
    "    for e in tqdm(range(1000)):\n",
    "        state = env.reset()\n",
    "        done = False\n",
    "        reward_sum = 0.0\n",
    "        while done == False:\n",
    "            \n",
    "            action = agent.take_action(state)\n",
    "            next_state , reward , done , _ = env.step(action)\n",
    "            reward_sum += reward\n",
    "            reward = float(reward) - abs(next_state[1])*2 - abs(next_state[3])*0.5\n",
    "            agent.store_transition( state , action , reward , next_state , done )\n",
    "            state = next_state[:]\n",
    "            agent.update_parameters()\n",
    "            \n",
    "        reward_history.append(reward_sum)\n",
    "        if e  % 50 == 0:\n",
    "            #get_snap_shot(agent = agent , gif_filename='cartpole_gif/episode_{}.gif'.format(e))\n",
    "            get_snap_shot(agent = agent)\n",
    "        if e > 0 and e % 20 == 0:\n",
    "            agent.update_target_weight()\n",
    "finally:\n",
    "    env.close()"
   ]
  },
  {
   "cell_type": "code",
   "execution_count": 8,
   "metadata": {},
   "outputs": [
    {
     "data": {
      "text/plain": [
       "[<matplotlib.lines.Line2D at 0x144497a90>]"
      ]
     },
     "execution_count": 8,
     "metadata": {},
     "output_type": "execute_result"
    },
    {
     "data": {
      "image/png": "[encoded data removed]",
      "text/plain": [
       "<Figure size 432x288 with 1 Axes>"
      ]
     },
     "metadata": {
      "needs_background": "light"
     },
     "output_type": "display_data"
    }
   ],
   "source": [
    "import matplotlib.pyplot as plt\n",
    "plt.plot(reward_history)"
   ]
  },
  {
   "cell_type": "code",
   "execution_count": 9,
   "metadata": {},
   "outputs": [
    {
     "data": {
      "application/vnd.jupyter.widget-view+json": {
       "model_id": "cfc37053aeea45188539eee341ff0616",
       "version_major": 2,
       "version_minor": 0
      },
      "text/plain": [
       "HBox(children=(IntProgress(value=0, max=300), HTML(value='')))"
      ]
     },
     "metadata": {},
     "output_type": "display_data"
    },
    {
     "name": "stdout",
     "output_type": "stream",
     "text": [
      "total reward 7.234453620102528\n",
      "100\n",
      "total reward 253.5109829037592\n",
      "100\n",
      "total reward 239.40190778596536\n",
      "100\n",
      "total reward 6.505489288578062\n",
      "100\n",
      "total reward 10.509244783659426\n",
      "100\n",
      "total reward 35.954935022554224\n",
      "-100\n",
      "total reward 272.4173836122585\n",
      "100\n",
      "total reward -121.09134749307947\n",
      "100\n",
      "total reward -38.70506393021131\n",
      "-100\n",
      "total reward 270.1745730608912\n",
      "100\n",
      "total reward 233.0839315506318\n",
      "100\n",
      "total reward 295.71343660599973\n",
      "-100\n",
      "total reward 254.40143348580338\n",
      "100\n",
      "total reward 263.4193498539952\n",
      "100\n",
      "total reward 269.549949410621\n",
      "100\n",
      "total reward 304.71184800889125\n",
      "100\n",
      "total reward 159.85622563765253\n",
      "100\n",
      "total reward -46.84977631098555\n",
      "100\n",
      "total reward 248.61328283626452\n",
      "100\n",
      "total reward 257.9855761570552\n",
      "100\n",
      "total reward 237.2398506409084\n",
      "100\n",
      "total reward 97.74421598720767\n",
      "-100\n",
      "total reward 231.9175666242871\n",
      "100\n",
      "total reward 260.89058405336965\n",
      "-100\n",
      "total reward 252.05403119280916\n",
      "100\n",
      "total reward 182.73400129441893\n",
      "100\n",
      "total reward 245.05673795824782\n",
      "100\n",
      "total reward 180.0840712193127\n",
      "100\n",
      "total reward 26.85639167979207\n",
      "100\n",
      "total reward 28.857121798050258\n",
      "100\n",
      "total reward -22.737424404536682\n",
      "\n"
     ]
    }
   ],
   "source": [
    "try:\n",
    "    env = gym.make('LunarLander-v2')\n",
    "    for e in tqdm(range(500)):\n",
    "        state = env.reset()\n",
    "        done = False\n",
    "        reward_sum = 0.0\n",
    "        while done == False:\n",
    "            \n",
    "            action = agent.take_action(state)\n",
    "            next_state , reward , done , _ = env.step(action)\n",
    "            test = reward\n",
    "            reward_sum += reward\n",
    "            reward = float(reward) - abs(next_state[1])*2 - abs(next_state[3])*0.5\n",
    "            agent.store_transition( state , action , reward , next_state , done )\n",
    "            state = next_state[:]\n",
    "            agent.update_parameters()\n",
    "            \n",
    "        reward_history.append(reward_sum)\n",
    "        if e  % 10 == 0:\n",
    "            get_snap_shot(agent = agent)\n",
    "        if e > 0 and e % 20 == 0:\n",
    "            agent.update_target_weight()\n",
    "        if e==499:\n",
    "            get_snap_shot(agent = agent , gif_filename='success1.gif')\n",
    "            print(test)\n",
    "finally:\n",
    "    env.close()"
   ]
  },
  {
   "cell_type": "code",
   "execution_count": 11,
   "metadata": {},
   "outputs": [
    {
     "data": {
      "application/vnd.jupyter.widget-view+json": {
       "model_id": "c4fecc51410c4f63afb605e305498c06",
       "version_major": 2,
       "version_minor": 0
      },
      "text/plain": [
       "HBox(children=(IntProgress(value=0, max=200), HTML(value='')))"
      ]
     },
     "metadata": {},
     "output_type": "display_data"
    },
    {
     "name": "stdout",
     "output_type": "stream",
     "text": [
      "total reward 255.15825241829134\n",
      "total reward 28.626070071459424\n",
      "total reward 6.304943284878718\n",
      "total reward -35.2435020816404\n",
      "100\n",
      "total reward -275.9403958055816\n",
      "\n"
     ]
    }
   ],
   "source": [
    "try:\n",
    "    env = gym.make('LunarLander-v2')\n",
    "    for e in tqdm(range(200)):\n",
    "        state = env.reset()\n",
    "        done = False\n",
    "        reward_sum = 0.0\n",
    "        while done == False:\n",
    "            \n",
    "            action = agent.take_action(state)\n",
    "            next_state , reward , done , _ = env.step(action)\n",
    "            test = reward\n",
    "            reward_sum += reward\n",
    "            reward = float(reward) - abs(next_state[1])*2 - abs(next_state[3])*0.5\n",
    "            agent.store_transition( state , action , reward , next_state , done )\n",
    "            state = next_state[:]\n",
    "            agent.update_parameters()\n",
    "            \n",
    "        reward_history.append(reward_sum)\n",
    "        if e  % 50 == 0:\n",
    "            get_snap_shot(agent = agent)\n",
    "        if e > 0 and e % 20 == 0:\n",
    "            agent.update_target_weight()\n",
    "        if e==199:\n",
    "            print(test)\n",
    "            get_snap_shot(agent = agent , gif_filename='success1.gif')\n",
    "finally:\n",
    "    env.close()"
   ]
  },
  {
   "cell_type": "code",
   "execution_count": null,
   "metadata": {},
   "outputs": [],
   "source": []
  }
 ],
 "metadata": {
  "kernelspec": {
   "display_name": "Python 3",
   "language": "python",
   "name": "python3"
  },
  "language_info": {
   "codemirror_mode": {
    "name": "ipython",
    "version": 3
   },
   "file_extension": ".py",
   "mimetype": "text/x-python",
   "name": "python",
   "nbconvert_exporter": "python",
   "pygments_lexer": "ipython3",
   "version": "3.7.4"
  }
 },
 "nbformat": 4,
 "nbformat_minor": 2
}
