{
 "cells": [
  {
   "cell_type": "code",
   "execution_count": 1,
   "metadata": {},
   "outputs": [],
   "source": [
    "import pandas as pd\n",
    "import numpy as np\n",
    "import matplotlib.pyplot as plt\n",
    "import seaborn as sns\n",
    "import warnings\n",
    "\n",
    "warnings.filterwarnings('ignore')"
   ]
  },
  {
   "cell_type": "code",
   "execution_count": 2,
   "metadata": {},
   "outputs": [],
   "source": [
    "df_train = pd.read_csv('train.csv')\n",
    "train_end_idx = len(df_train) \n",
    "df_test = pd.read_csv('test.csv')\n",
    "df_test['RainToday'] = np.zeros((len(df_test),))\n",
    "\n",
    "# 為了處理方便，把 'train.csv' 和 'test.csv' 合併起來，'test.csv'的 RainToday 欄位用 0 補起來。\n",
    "# 以 train_end_idx 作為 'train.csv' 和 'test.csv' 分界列，\n",
    "df = pd.concat([df_train, df_test], sort=False)\n"
   ]
  },
  {
   "cell_type": "code",
   "execution_count": 3,
   "metadata": {},
   "outputs": [
    {
     "name": "stdout",
     "output_type": "stream",
     "text": [
      "<class 'pandas.core.frame.DataFrame'>\n",
      "Int64Index: 70000 entries, 0 to 34843\n",
      "Data columns (total 22 columns):\n",
      "Date             55943 non-null object\n",
      "Location         55883 non-null object\n",
      "MinTemp          56082 non-null float64\n",
      "MaxTemp          56174 non-null float64\n",
      "Evaporation      56019 non-null float64\n",
      "Sunshine         55954 non-null float64\n",
      "WindGustDir      52611 non-null object\n",
      "WindGustSpeed    56166 non-null float64\n",
      "WindDir9am       52126 non-null object\n",
      "WindDir3pm       54552 non-null object\n",
      "WindSpeed9am     55971 non-null float64\n",
      "WindSpeed3pm     56072 non-null float64\n",
      "Humidity9am      55944 non-null float64\n",
      "Humidity3pm      55944 non-null float64\n",
      "Pressure9am      56036 non-null float64\n",
      "Pressure3pm      55896 non-null float64\n",
      "Cloud9am         56090 non-null float64\n",
      "Cloud3pm         56064 non-null float64\n",
      "Temp9am          55970 non-null float64\n",
      "Temp3pm          56063 non-null float64\n",
      "RainToday        70000 non-null float64\n",
      "RISK_MM          56129 non-null float64\n",
      "dtypes: float64(17), object(5)\n",
      "memory usage: 12.3+ MB\n"
     ]
    },
    {
     "data": {
      "image/png": "[encoded data removed]",
      "text/plain": [
       "<Figure size 432x576 with 1 Axes>"
      ]
     },
     "metadata": {
      "needs_background": "light"
     },
     "output_type": "display_data"
    }
   ],
   "source": [
    "df.info()\n",
    "df = df.drop(columns=['Date','RISK_MM'],axis=1)\n",
    "df.shape\n",
    "df[0:5]\n",
    "f, ax = plt.subplots(figsize=(6, 8))\n",
    "ax = sns.countplot(x=\"RainToday\", data=df, palette=\"Set1\")\n",
    "plt.show()"
   ]
  },
  {
   "cell_type": "code",
   "execution_count": 4,
   "metadata": {},
   "outputs": [],
   "source": [
    "# df['Date'] = pd.to_datetime(df['Date'])\n",
    "# df['Year'] = df['Date'].dt.year\n",
    "# df['Month'] = df['Date'].dt.month\n",
    "# df['Day'] = df['Date'].dt.day\n",
    "# df.drop('Date', axis=1, inplace = True)\n",
    "# df.head()"
   ]
  },
  {
   "cell_type": "code",
   "execution_count": 5,
   "metadata": {},
   "outputs": [
    {
     "name": "stdout",
     "output_type": "stream",
     "text": [
      "There are 4 categorical variables\n",
      "\n",
      "The categorical variables are : ['Location', 'WindGustDir', 'WindDir9am', 'WindDir3pm']\n"
     ]
    },
    {
     "data": {
      "text/html": [
       "<div>\n",
       "<style scoped>\n",
       "    .dataframe tbody tr th:only-of-type {\n",
       "        vertical-align: middle;\n",
       "    }\n",
       "\n",
       "    .dataframe tbody tr th {\n",
       "        vertical-align: top;\n",
       "    }\n",
       "\n",
       "    .dataframe thead th {\n",
       "        text-align: right;\n",
       "    }\n",
       "</style>\n",
       "<table border=\"1\" class=\"dataframe\">\n",
       "  <thead>\n",
       "    <tr style=\"text-align: right;\">\n",
       "      <th></th>\n",
       "      <th>ENE</th>\n",
       "      <th>ESE</th>\n",
       "      <th>N</th>\n",
       "      <th>NE</th>\n",
       "      <th>NNE</th>\n",
       "      <th>NNW</th>\n",
       "      <th>NW</th>\n",
       "      <th>S</th>\n",
       "      <th>SE</th>\n",
       "      <th>SSE</th>\n",
       "      <th>SSW</th>\n",
       "      <th>SW</th>\n",
       "      <th>W</th>\n",
       "      <th>WNW</th>\n",
       "      <th>WSW</th>\n",
       "      <th>NaN</th>\n",
       "    </tr>\n",
       "  </thead>\n",
       "  <tbody>\n",
       "    <tr>\n",
       "      <td>0</td>\n",
       "      <td>1</td>\n",
       "      <td>0</td>\n",
       "      <td>0</td>\n",
       "      <td>0</td>\n",
       "      <td>0</td>\n",
       "      <td>0</td>\n",
       "      <td>0</td>\n",
       "      <td>0</td>\n",
       "      <td>0</td>\n",
       "      <td>0</td>\n",
       "      <td>0</td>\n",
       "      <td>0</td>\n",
       "      <td>0</td>\n",
       "      <td>0</td>\n",
       "      <td>0</td>\n",
       "      <td>0</td>\n",
       "    </tr>\n",
       "    <tr>\n",
       "      <td>1</td>\n",
       "      <td>0</td>\n",
       "      <td>0</td>\n",
       "      <td>0</td>\n",
       "      <td>0</td>\n",
       "      <td>0</td>\n",
       "      <td>0</td>\n",
       "      <td>0</td>\n",
       "      <td>0</td>\n",
       "      <td>1</td>\n",
       "      <td>0</td>\n",
       "      <td>0</td>\n",
       "      <td>0</td>\n",
       "      <td>0</td>\n",
       "      <td>0</td>\n",
       "      <td>0</td>\n",
       "      <td>0</td>\n",
       "    </tr>\n",
       "    <tr>\n",
       "      <td>2</td>\n",
       "      <td>0</td>\n",
       "      <td>0</td>\n",
       "      <td>0</td>\n",
       "      <td>0</td>\n",
       "      <td>0</td>\n",
       "      <td>0</td>\n",
       "      <td>0</td>\n",
       "      <td>0</td>\n",
       "      <td>0</td>\n",
       "      <td>0</td>\n",
       "      <td>0</td>\n",
       "      <td>1</td>\n",
       "      <td>0</td>\n",
       "      <td>0</td>\n",
       "      <td>0</td>\n",
       "      <td>0</td>\n",
       "    </tr>\n",
       "    <tr>\n",
       "      <td>3</td>\n",
       "      <td>0</td>\n",
       "      <td>0</td>\n",
       "      <td>0</td>\n",
       "      <td>0</td>\n",
       "      <td>0</td>\n",
       "      <td>0</td>\n",
       "      <td>0</td>\n",
       "      <td>0</td>\n",
       "      <td>0</td>\n",
       "      <td>0</td>\n",
       "      <td>0</td>\n",
       "      <td>0</td>\n",
       "      <td>0</td>\n",
       "      <td>0</td>\n",
       "      <td>0</td>\n",
       "      <td>1</td>\n",
       "    </tr>\n",
       "    <tr>\n",
       "      <td>4</td>\n",
       "      <td>0</td>\n",
       "      <td>0</td>\n",
       "      <td>0</td>\n",
       "      <td>0</td>\n",
       "      <td>0</td>\n",
       "      <td>0</td>\n",
       "      <td>0</td>\n",
       "      <td>0</td>\n",
       "      <td>0</td>\n",
       "      <td>0</td>\n",
       "      <td>0</td>\n",
       "      <td>0</td>\n",
       "      <td>0</td>\n",
       "      <td>1</td>\n",
       "      <td>0</td>\n",
       "      <td>0</td>\n",
       "    </tr>\n",
       "  </tbody>\n",
       "</table>\n",
       "</div>"
      ],
      "text/plain": [
       "   ENE  ESE  N  NE  NNE  NNW  NW  S  SE  SSE  SSW  SW  W  WNW  WSW  NaN\n",
       "0    1    0  0   0    0    0   0  0   0    0    0   0  0    0    0    0\n",
       "1    0    0  0   0    0    0   0  0   1    0    0   0  0    0    0    0\n",
       "2    0    0  0   0    0    0   0  0   0    0    0   1  0    0    0    0\n",
       "3    0    0  0   0    0    0   0  0   0    0    0   0  0    0    0    1\n",
       "4    0    0  0   0    0    0   0  0   0    0    0   0  0    1    0    0"
      ]
     },
     "execution_count": 5,
     "metadata": {},
     "output_type": "execute_result"
    }
   ],
   "source": [
    "categorical = [var for var in df.columns if df[var].dtype=='O']\n",
    "\n",
    "print('There are {} categorical variables\\n'.format(len(categorical)))\n",
    "\n",
    "print('The categorical variables are :', categorical)\n",
    "\n",
    "pd.get_dummies(df.Location, drop_first=True).head()\n",
    "pd.get_dummies(df.WindGustDir, drop_first=True, dummy_na=True).head()\n",
    "pd.get_dummies(df.WindDir9am, drop_first=True, dummy_na=True).head()\n",
    "pd.get_dummies(df.WindDir3pm, drop_first=True, dummy_na=True).head()"
   ]
  },
  {
   "cell_type": "code",
   "execution_count": 6,
   "metadata": {},
   "outputs": [
    {
     "name": "stdout",
     "output_type": "stream",
     "text": [
      "There are 16 numerical variables\n",
      "\n",
      "The numerical variables are : ['MinTemp', 'MaxTemp', 'Evaporation', 'Sunshine', 'WindGustSpeed', 'WindSpeed9am', 'WindSpeed3pm', 'Humidity9am', 'Humidity3pm', 'Pressure9am', 'Pressure3pm', 'Cloud9am', 'Cloud3pm', 'Temp9am', 'Temp3pm', 'RainToday']\n"
     ]
    },
    {
     "data": {
      "text/plain": [
       "MinTemp          13918\n",
       "MaxTemp          13826\n",
       "Evaporation      13981\n",
       "Sunshine         14046\n",
       "WindGustSpeed    13834\n",
       "WindSpeed9am     14029\n",
       "WindSpeed3pm     13928\n",
       "Humidity9am      14056\n",
       "Humidity3pm      14056\n",
       "Pressure9am      13964\n",
       "Pressure3pm      14104\n",
       "Cloud9am         13910\n",
       "Cloud3pm         13936\n",
       "Temp9am          14030\n",
       "Temp3pm          13937\n",
       "RainToday            0\n",
       "dtype: int64"
      ]
     },
     "execution_count": 6,
     "metadata": {},
     "output_type": "execute_result"
    }
   ],
   "source": [
    "numerical = [var for var in df.columns if df[var].dtype!='O']\n",
    "\n",
    "print('There are {} numerical variables\\n'.format(len(numerical)))\n",
    "\n",
    "print('The numerical variables are :', numerical)\n",
    "\n",
    "df[numerical].isnull().sum()"
   ]
  },
  {
   "cell_type": "code",
   "execution_count": 7,
   "metadata": {},
   "outputs": [
    {
     "name": "stdout",
     "output_type": "stream",
     "text": [
      "       MinTemp  MaxTemp  Evaporation  Sunshine  WindGustSpeed  WindSpeed9am  \\\n",
      "count  56082.0  56174.0      56019.0   55954.0        56166.0       55971.0   \n",
      "mean      12.0     24.0          6.0       8.0           39.0          14.0   \n",
      "std        6.0      7.0          3.0       3.0           13.0           9.0   \n",
      "min       -8.0     -4.0          0.0       0.0            7.0           0.0   \n",
      "25%        8.0     18.0          4.0       8.0           31.0           7.0   \n",
      "50%       12.0     23.0          6.0       8.0           39.0          13.0   \n",
      "75%       17.0     29.0          6.0       9.0           46.0          19.0   \n",
      "max       34.0     47.0         86.0      14.0          135.0         130.0   \n",
      "\n",
      "       WindSpeed3pm  Humidity9am  Humidity3pm  Pressure9am  Pressure3pm  \\\n",
      "count       56072.0      55944.0      55944.0      56036.0      55896.0   \n",
      "mean           18.0         52.0         60.0       1018.0       1015.0   \n",
      "std             9.0         18.0         11.0          7.0          7.0   \n",
      "min             0.0          0.0          0.0        985.0        977.0   \n",
      "25%            13.0         40.0         53.0       1014.0       1011.0   \n",
      "50%            18.0         52.0         60.0       1018.0       1015.0   \n",
      "75%            24.0         63.0         67.0       1022.0       1020.0   \n",
      "max            78.0        100.0        100.0       1041.0       1040.0   \n",
      "\n",
      "       Cloud9am  Cloud3pm  Temp9am  Temp3pm  RainToday  \n",
      "count   56090.0   56064.0  55970.0  56063.0    70000.0  \n",
      "mean        4.0       4.0     17.0     22.0        0.0  \n",
      "std         2.0       2.0      7.0      7.0        0.0  \n",
      "min         0.0       0.0     -6.0     -4.0        0.0  \n",
      "25%         3.0       3.0     12.0     17.0        0.0  \n",
      "50%         4.0       4.0     17.0     22.0        0.0  \n",
      "75%         6.0       6.0     22.0     27.0        0.0  \n",
      "max         9.0       9.0     40.0     47.0        1.0   2\n"
     ]
    }
   ],
   "source": [
    "print(round(df[numerical].describe()),2)"
   ]
  },
  {
   "cell_type": "code",
   "execution_count": 8,
   "metadata": {},
   "outputs": [],
   "source": [
    "for df1 in [df]:\n",
    "    for col in numerical:\n",
    "        if col!='RainToday':\n",
    "            col_median=df_train[col].median()\n",
    "            df1[col].fillna(col_median, inplace=True)   "
   ]
  },
  {
   "cell_type": "code",
   "execution_count": 9,
   "metadata": {},
   "outputs": [
    {
     "data": {
      "text/plain": [
       "Location       0\n",
       "WindGustDir    0\n",
       "WindDir9am     0\n",
       "WindDir3pm     0\n",
       "dtype: int64"
      ]
     },
     "execution_count": 9,
     "metadata": {},
     "output_type": "execute_result"
    }
   ],
   "source": [
    "for df2 in [df]:\n",
    "    df2['WindGustDir'].fillna(df_train['WindGustDir'].mode()[0], inplace=True)\n",
    "    df2['WindDir9am'].fillna(df_train['WindDir9am'].mode()[0], inplace=True)\n",
    "    df2['WindDir3pm'].fillna(df_train['WindDir3pm'].mode()[0], inplace=True)\n",
    "    df2['Location'].fillna(df_train['Location'].mode()[0], inplace=True)\n",
    "df[categorical].isnull().sum()"
   ]
  },
  {
   "cell_type": "code",
   "execution_count": 10,
   "metadata": {},
   "outputs": [
    {
     "name": "stdout",
     "output_type": "stream",
     "text": [
      "Evaporation outliers are values < 4.515118606532937 or > 6.579841857956085\n"
     ]
    }
   ],
   "source": [
    "IQR = df.Evaporation.quantile(0.75) - df.Evaporation.quantile(0.25)\n",
    "Lower_fence = df.Evaporation.quantile(0.25) - (IQR * 3)\n",
    "Upper_fence = df.Evaporation.quantile(0.75) + (IQR * 3)\n",
    "print('Evaporation outliers are values < {lowerboundary} or > {upperboundary}'.format(lowerboundary=Lower_fence, upperboundary=Upper_fence))"
   ]
  },
  {
   "cell_type": "code",
   "execution_count": 11,
   "metadata": {},
   "outputs": [
    {
     "name": "stdout",
     "output_type": "stream",
     "text": [
      "WindSpeed9am outliers are values < -15.0 or > 41.0\n"
     ]
    }
   ],
   "source": [
    "IQR = df.WindSpeed9am.quantile(0.75) - df.WindSpeed9am.quantile(0.25)\n",
    "Lower_fence = df.WindSpeed9am.quantile(0.25) - (IQR * 3)\n",
    "Upper_fence = df.WindSpeed9am.quantile(0.75) + (IQR * 3)\n",
    "print('WindSpeed9am outliers are values < {lowerboundary} or > {upperboundary}'.format(lowerboundary=Lower_fence, upperboundary=Upper_fence))"
   ]
  },
  {
   "cell_type": "code",
   "execution_count": 12,
   "metadata": {},
   "outputs": [
    {
     "name": "stdout",
     "output_type": "stream",
     "text": [
      "WindGustSpeed outliers are values < 3.0 or > 73.0\n"
     ]
    }
   ],
   "source": [
    "IQR = df.WindGustSpeed.quantile(0.75) - df.WindGustSpeed.quantile(0.25)\n",
    "Lower_fence = df.WindGustSpeed.quantile(0.25) - (IQR * 3)\n",
    "Upper_fence = df.WindGustSpeed.quantile(0.75) + (IQR * 3)\n",
    "print('WindGustSpeed outliers are values < {lowerboundary} or > {upperboundary}'.format(lowerboundary=Lower_fence, upperboundary=Upper_fence))"
   ]
  },
  {
   "cell_type": "code",
   "execution_count": 13,
   "metadata": {},
   "outputs": [],
   "source": [
    "def max_value(df3, variable, top):\n",
    "    return np.where(df3[variable]>top, top, df3[variable])\n",
    "\n",
    "for df3 in [df]:\n",
    "    df3['WindGustSpeed'] = max_value(df3, 'WindGustSpeed', 70.0)\n",
    "    df3['Evaporation'] = max_value(df3, 'Evaporation', 6.5)\n",
    "    df3['WindSpeed9am'] = max_value(df3, 'WindSpeed9am', 40.0)"
   ]
  },
  {
   "cell_type": "code",
   "execution_count": 14,
   "metadata": {},
   "outputs": [],
   "source": [
    "df = pd.concat([df[numerical],\n",
    "                     pd.get_dummies(df.Location), \n",
    "                     pd.get_dummies(df.WindGustDir),\n",
    "                     pd.get_dummies(df.WindDir9am),\n",
    "                     pd.get_dummies(df.WindDir3pm)], axis=1)"
   ]
  },
  {
   "cell_type": "code",
   "execution_count": 15,
   "metadata": {},
   "outputs": [
    {
     "data": {
      "text/html": [
       "<div>\n",
       "<style scoped>\n",
       "    .dataframe tbody tr th:only-of-type {\n",
       "        vertical-align: middle;\n",
       "    }\n",
       "\n",
       "    .dataframe tbody tr th {\n",
       "        vertical-align: top;\n",
       "    }\n",
       "\n",
       "    .dataframe thead th {\n",
       "        text-align: right;\n",
       "    }\n",
       "</style>\n",
       "<table border=\"1\" class=\"dataframe\">\n",
       "  <thead>\n",
       "    <tr style=\"text-align: right;\">\n",
       "      <th></th>\n",
       "      <th>MinTemp</th>\n",
       "      <th>MaxTemp</th>\n",
       "      <th>Evaporation</th>\n",
       "      <th>Sunshine</th>\n",
       "      <th>WindGustSpeed</th>\n",
       "      <th>WindSpeed9am</th>\n",
       "      <th>WindSpeed3pm</th>\n",
       "      <th>Humidity9am</th>\n",
       "      <th>Humidity3pm</th>\n",
       "      <th>Pressure9am</th>\n",
       "      <th>...</th>\n",
       "      <th>NNW</th>\n",
       "      <th>NW</th>\n",
       "      <th>S</th>\n",
       "      <th>SE</th>\n",
       "      <th>SSE</th>\n",
       "      <th>SSW</th>\n",
       "      <th>SW</th>\n",
       "      <th>W</th>\n",
       "      <th>WNW</th>\n",
       "      <th>WSW</th>\n",
       "    </tr>\n",
       "  </thead>\n",
       "  <tbody>\n",
       "    <tr>\n",
       "      <td>4</td>\n",
       "      <td>0.389549</td>\n",
       "      <td>0.474510</td>\n",
       "      <td>0.492308</td>\n",
       "      <td>0.551257</td>\n",
       "      <td>0.984127</td>\n",
       "      <td>0.325</td>\n",
       "      <td>0.236357</td>\n",
       "      <td>0.518309</td>\n",
       "      <td>0.517702</td>\n",
       "      <td>0.590953</td>\n",
       "      <td>...</td>\n",
       "      <td>0.0</td>\n",
       "      <td>0.0</td>\n",
       "      <td>0.0</td>\n",
       "      <td>0.0</td>\n",
       "      <td>0.0</td>\n",
       "      <td>0.0</td>\n",
       "      <td>0.0</td>\n",
       "      <td>0.0</td>\n",
       "      <td>1.0</td>\n",
       "      <td>0.0</td>\n",
       "    </tr>\n",
       "    <tr>\n",
       "      <td>5</td>\n",
       "      <td>0.425178</td>\n",
       "      <td>0.545098</td>\n",
       "      <td>0.876148</td>\n",
       "      <td>0.551257</td>\n",
       "      <td>0.380952</td>\n",
       "      <td>0.275</td>\n",
       "      <td>0.243590</td>\n",
       "      <td>0.498169</td>\n",
       "      <td>0.584702</td>\n",
       "      <td>0.677996</td>\n",
       "      <td>...</td>\n",
       "      <td>0.0</td>\n",
       "      <td>0.0</td>\n",
       "      <td>0.0</td>\n",
       "      <td>0.0</td>\n",
       "      <td>0.0</td>\n",
       "      <td>0.0</td>\n",
       "      <td>0.0</td>\n",
       "      <td>0.0</td>\n",
       "      <td>0.0</td>\n",
       "      <td>0.0</td>\n",
       "    </tr>\n",
       "    <tr>\n",
       "      <td>6</td>\n",
       "      <td>0.337292</td>\n",
       "      <td>0.323529</td>\n",
       "      <td>0.153846</td>\n",
       "      <td>0.510345</td>\n",
       "      <td>0.507937</td>\n",
       "      <td>0.700</td>\n",
       "      <td>0.333333</td>\n",
       "      <td>0.708797</td>\n",
       "      <td>0.596722</td>\n",
       "      <td>0.794275</td>\n",
       "      <td>...</td>\n",
       "      <td>0.0</td>\n",
       "      <td>0.0</td>\n",
       "      <td>0.0</td>\n",
       "      <td>0.0</td>\n",
       "      <td>0.0</td>\n",
       "      <td>0.0</td>\n",
       "      <td>0.0</td>\n",
       "      <td>1.0</td>\n",
       "      <td>0.0</td>\n",
       "      <td>0.0</td>\n",
       "    </tr>\n",
       "    <tr>\n",
       "      <td>7</td>\n",
       "      <td>0.363420</td>\n",
       "      <td>0.376471</td>\n",
       "      <td>0.369231</td>\n",
       "      <td>0.551257</td>\n",
       "      <td>0.444444</td>\n",
       "      <td>0.375</td>\n",
       "      <td>0.166667</td>\n",
       "      <td>0.391384</td>\n",
       "      <td>0.681234</td>\n",
       "      <td>0.697674</td>\n",
       "      <td>...</td>\n",
       "      <td>0.0</td>\n",
       "      <td>0.0</td>\n",
       "      <td>1.0</td>\n",
       "      <td>0.0</td>\n",
       "      <td>0.0</td>\n",
       "      <td>0.0</td>\n",
       "      <td>0.0</td>\n",
       "      <td>0.0</td>\n",
       "      <td>0.0</td>\n",
       "      <td>0.0</td>\n",
       "    </tr>\n",
       "    <tr>\n",
       "      <td>8</td>\n",
       "      <td>0.586698</td>\n",
       "      <td>0.570588</td>\n",
       "      <td>0.876148</td>\n",
       "      <td>0.551257</td>\n",
       "      <td>0.507937</td>\n",
       "      <td>0.650</td>\n",
       "      <td>0.236357</td>\n",
       "      <td>0.639832</td>\n",
       "      <td>0.600083</td>\n",
       "      <td>0.352415</td>\n",
       "      <td>...</td>\n",
       "      <td>0.0</td>\n",
       "      <td>0.0</td>\n",
       "      <td>0.0</td>\n",
       "      <td>0.0</td>\n",
       "      <td>0.0</td>\n",
       "      <td>0.0</td>\n",
       "      <td>0.0</td>\n",
       "      <td>0.0</td>\n",
       "      <td>0.0</td>\n",
       "      <td>0.0</td>\n",
       "    </tr>\n",
       "    <tr>\n",
       "      <td>9</td>\n",
       "      <td>0.479810</td>\n",
       "      <td>0.343137</td>\n",
       "      <td>0.723077</td>\n",
       "      <td>0.358621</td>\n",
       "      <td>0.920635</td>\n",
       "      <td>0.700</td>\n",
       "      <td>0.423077</td>\n",
       "      <td>0.589740</td>\n",
       "      <td>0.689603</td>\n",
       "      <td>0.533095</td>\n",
       "      <td>...</td>\n",
       "      <td>0.0</td>\n",
       "      <td>0.0</td>\n",
       "      <td>0.0</td>\n",
       "      <td>0.0</td>\n",
       "      <td>0.0</td>\n",
       "      <td>0.0</td>\n",
       "      <td>0.0</td>\n",
       "      <td>0.0</td>\n",
       "      <td>0.0</td>\n",
       "      <td>1.0</td>\n",
       "    </tr>\n",
       "  </tbody>\n",
       "</table>\n",
       "<p>6 rows × 113 columns</p>\n",
       "</div>"
      ],
      "text/plain": [
       "    MinTemp   MaxTemp  Evaporation  Sunshine  WindGustSpeed  WindSpeed9am  \\\n",
       "4  0.389549  0.474510     0.492308  0.551257       0.984127         0.325   \n",
       "5  0.425178  0.545098     0.876148  0.551257       0.380952         0.275   \n",
       "6  0.337292  0.323529     0.153846  0.510345       0.507937         0.700   \n",
       "7  0.363420  0.376471     0.369231  0.551257       0.444444         0.375   \n",
       "8  0.586698  0.570588     0.876148  0.551257       0.507937         0.650   \n",
       "9  0.479810  0.343137     0.723077  0.358621       0.920635         0.700   \n",
       "\n",
       "   WindSpeed3pm  Humidity9am  Humidity3pm  Pressure9am  ...  NNW   NW    S  \\\n",
       "4      0.236357     0.518309     0.517702     0.590953  ...  0.0  0.0  0.0   \n",
       "5      0.243590     0.498169     0.584702     0.677996  ...  0.0  0.0  0.0   \n",
       "6      0.333333     0.708797     0.596722     0.794275  ...  0.0  0.0  0.0   \n",
       "7      0.166667     0.391384     0.681234     0.697674  ...  0.0  0.0  1.0   \n",
       "8      0.236357     0.639832     0.600083     0.352415  ...  0.0  0.0  0.0   \n",
       "9      0.423077     0.589740     0.689603     0.533095  ...  0.0  0.0  0.0   \n",
       "\n",
       "    SE  SSE  SSW   SW    W  WNW  WSW  \n",
       "4  0.0  0.0  0.0  0.0  0.0  1.0  0.0  \n",
       "5  0.0  0.0  0.0  0.0  0.0  0.0  0.0  \n",
       "6  0.0  0.0  0.0  0.0  1.0  0.0  0.0  \n",
       "7  0.0  0.0  0.0  0.0  0.0  0.0  0.0  \n",
       "8  0.0  0.0  0.0  0.0  0.0  0.0  0.0  \n",
       "9  0.0  0.0  0.0  0.0  0.0  0.0  1.0  \n",
       "\n",
       "[6 rows x 113 columns]"
      ]
     },
     "execution_count": 15,
     "metadata": {},
     "output_type": "execute_result"
    }
   ],
   "source": [
    "from sklearn import preprocessing\n",
    "scaler = preprocessing.MinMaxScaler()\n",
    "scaler.fit(df)\n",
    "df = pd.DataFrame(scaler.transform(df), index=df.index, columns=df.columns)\n",
    "df.iloc[4:10]"
   ]
  },
  {
   "cell_type": "markdown",
   "metadata": {},
   "source": [
    "# train"
   ]
  },
  {
   "cell_type": "code",
   "execution_count": 16,
   "metadata": {},
   "outputs": [],
   "source": [
    "# 將非數值欄位拿掉\n",
    "#df = df.drop(columns = [col for col in df.columns if df[col].dtype == np.object])"
   ]
  },
  {
   "cell_type": "code",
   "execution_count": 17,
   "metadata": {},
   "outputs": [],
   "source": [
    "from sklearn.model_selection import train_test_split\n",
    "X_train, X_test, y_train, y_test = train_test_split(\n",
    "    df.drop(columns = ['RainToday']).values[:train_end_idx, :],\n",
    "    df['RainToday'].values[:train_end_idx], test_size=0.4)\n",
    "X_ans = df.drop(columns = ['RainToday']).values[train_end_idx:, :]"
   ]
  },
  {
   "cell_type": "code",
   "execution_count": 18,
   "metadata": {},
   "outputs": [],
   "source": [
    "from imblearn.over_sampling import SMOTE, ADASYN\n",
    "# X_resampled, y_resampled = SMOTE().fit_resample(X_train, y_train)\n",
    "# X_resampled, y_resampled = ADASYN().fit_resample(X_train, y_train)\n",
    "from imblearn.over_sampling import BorderlineSMOTE\n",
    "X_resampled, y_resampled = BorderlineSMOTE().fit_resample(X_train, y_train)"
   ]
  },
  {
   "cell_type": "code",
   "execution_count": 23,
   "metadata": {},
   "outputs": [],
   "source": [
    "from kmeans_smote import KMeansSMOTE\n",
    "kmeans_smote = KMeansSMOTE(\n",
    "    kmeans_args={\n",
    "        'n_clusters': 150\n",
    "    },\n",
    "    smote_args={\n",
    "       'k_neighbors': 10\n",
    "    }\n",
    ")\n",
    "sm = KMeansSMOTE(random_state=0)\n",
    "X_res, y_res = sm.fit_resample(X_train, y_train)"
   ]
  },
  {
   "cell_type": "code",
   "execution_count": 19,
   "metadata": {},
   "outputs": [
    {
     "name": "stdout",
     "output_type": "stream",
     "text": [
      "Accuracy: 0.807154\n",
      "f1-score: 0.246248\n"
     ]
    }
   ],
   "source": [
    "from sklearn.tree import DecisionTreeClassifier\n",
    "from sklearn.metrics import accuracy_score, f1_score\n",
    "\n",
    "#train tree model\n",
    " \n",
    "model = DecisionTreeClassifier(criterion='gini',max_depth=10000)\n",
    "model.fit(X_resampled,y_resampled)\n",
    "\n",
    "#predict\n",
    "y_pred_decision = model.predict(X_test)\n",
    "print('Accuracy: %f' % accuracy_score(y_test, y_pred_decision))\n",
    "print('f1-score: %f' % f1_score(y_test, y_pred_decision))"
   ]
  },
  {
   "cell_type": "code",
   "execution_count": 19,
   "metadata": {},
   "outputs": [
    {
     "name": "stdout",
     "output_type": "stream",
     "text": [
      "Accuracy: 0.774870\n",
      "f1-score: 0.394183\n"
     ]
    }
   ],
   "source": [
    "from sklearn.linear_model import LogisticRegression\n",
    "from sklearn.metrics import accuracy_score, f1_score\n",
    "\n",
    "\n",
    "# instantiate the model\n",
    "model = LogisticRegression(solver='liblinear', random_state=0)\n",
    "model.fit(X_resampled, y_resampled)\n",
    "\n",
    "y_pred_decision = model.predict(X_test)\n",
    "print('Accuracy: %f' % accuracy_score(y_test, y_pred_decision))\n",
    "print('f1-score: %f' % f1_score(y_test, y_pred_decision))"
   ]
  },
  {
   "cell_type": "code",
   "execution_count": 24,
   "metadata": {},
   "outputs": [
    {
     "name": "stdout",
     "output_type": "stream",
     "text": [
      "Accuracy: 0.752400\n",
      "f1-score: 0.378436\n"
     ]
    }
   ],
   "source": [
    "from sklearn.linear_model import LogisticRegression\n",
    "from sklearn.metrics import accuracy_score, f1_score\n",
    "\n",
    "\n",
    "# instantiate the model\n",
    "model = LogisticRegression(solver='liblinear', random_state=0)\n",
    "model.fit(X_res, y_res)\n",
    "\n",
    "y_pred_decision = model.predict(X_test)\n",
    "print('Accuracy: %f' % accuracy_score(y_test, y_pred_decision))\n",
    "print('f1-score: %f' % f1_score(y_test, y_pred_decision))"
   ]
  },
  {
   "cell_type": "code",
   "execution_count": 41,
   "metadata": {},
   "outputs": [
    {
     "name": "stdout",
     "output_type": "stream",
     "text": [
      "Accuracy: 0.8662\n",
      "f1-score: 0.271672\n"
     ]
    }
   ],
   "source": [
    "from sklearn.ensemble import RandomForestClassifier\n",
    "from sklearn.metrics import accuracy_score, f1_score\n",
    "\n",
    "model = RandomForestClassifier(criterion='gini',n_estimators=10,random_state=1)\n",
    "model.fit(X_resampled,y_resampled)\n",
    "\n",
    "y_pred_forest = model.predict(X_test)\n",
    "print('Accuracy: %.4f' % accuracy_score(y_test, y_pred_forest))\n",
    "print('f1-score: %f' % f1_score(y_test, y_pred_forest))"
   ]
  },
  {
   "cell_type": "code",
   "execution_count": 19,
   "metadata": {},
   "outputs": [
    {
     "name": "stdout",
     "output_type": "stream",
     "text": [
      "Accuracy: 0.555642\n",
      "f1-score: 0.243920\n"
     ]
    }
   ],
   "source": [
    "from sklearn.naive_bayes import GaussianNB\n",
    "from sklearn.metrics import accuracy_score, f1_score\n",
    "\n",
    "model = GaussianNB()\n",
    "model.fit(X_resampled,y_resampled)\n",
    "\n",
    "#predict\n",
    "y_pred_decision = model.predict(X_test)\n",
    "print('Accuracy: %f' % accuracy_score(y_test, y_pred_decision))\n",
    "print('f1-score: %f' % f1_score(y_test, y_pred_decision))"
   ]
  },
  {
   "cell_type": "code",
   "execution_count": 21,
   "metadata": {},
   "outputs": [],
   "source": [
    "ans_pred = model.predict(X_ans)\n",
    "df_sap = pd.DataFrame(ans_pred.astype(int), columns = ['RainToday'])\n",
    "df_sap.to_csv('myAns.csv',  index_label = 'Id')"
   ]
  },
  {
   "cell_type": "code",
   "execution_count": 16,
   "metadata": {},
   "outputs": [
    {
     "name": "stdout",
     "output_type": "stream",
     "text": [
      "Index(['Sunshine', 'Humidity9am', 'Cloud9am', 'Cloud3pm', 'Woomera', 'W', 'E',\n",
      "       'SW', 'W', 'WSW'],\n",
      "      dtype='object')\n"
     ]
    }
   ],
   "source": [
    "from sklearn.feature_selection import SelectKBest, chi2\n",
    "X = df.loc[:,df.columns!='RainToday']\n",
    "y = df[['RainToday']]\n",
    "selector = SelectKBest(chi2, k=10)\n",
    "selector.fit(X, y)\n",
    "X_new = selector.transform(X)\n",
    "print(X.columns[selector.get_support(indices=True)]) #top 3 columns"
   ]
  },
  {
   "cell_type": "code",
   "execution_count": null,
   "metadata": {},
   "outputs": [],
   "source": []
  }
 ],
 "metadata": {
  "kernelspec": {
   "display_name": "Python 3",
   "language": "python",
   "name": "python3"
  },
  "language_info": {
   "codemirror_mode": {
    "name": "ipython",
    "version": 3
   },
   "file_extension": ".py",
   "mimetype": "text/x-python",
   "name": "python",
   "nbconvert_exporter": "python",
   "pygments_lexer": "ipython3",
   "version": "3.7.4"
  }
 },
 "nbformat": 4,
 "nbformat_minor": 2
}
