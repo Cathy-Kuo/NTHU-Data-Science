{
 "cells": [
  {
   "cell_type": "markdown",
   "metadata": {},
   "source": [
    "## Dataset: Heart Disease \n",
    "#### 目標: 猜測是否有心臟疾病\n",
    "#### 特徵清單: \n",
    "10. age: continuous\n",
    "11. sex: categorical, 2 values {0: female, 1: male}\n",
    "12. cp (chest pain type): categorical, 4 values\n",
    "    {1: typical angina, 2: atypical angina, 3: non-angina, 4: asymptomatic angina}\n",
    "13. restbp (resting blood pressure on admission to hospital): continuous (mmHg)\n",
    "14. chol (serum cholesterol level): continuous (mg/dl)\n",
    "15. fbs (fasting blood sugar): categorical, 2 values {0: <= 120 mg/dl, 1: > 120 mg/dl}\n",
    "16. restecg (resting electrocardiography): categorical, 3 values\n",
    "    {0: normal, 1: ST-T wave abnormality, 2: left ventricular hypertrophy}\n",
    "17. thalach (maximum heart rate achieved): continuous\n",
    "18. exang (exercise induced angina): categorical, 2 values {0: no, 1: yes}\n",
    "19. oldpeak (ST depression induced by exercise relative to rest): continuous\n",
    "20. slope (slope of peak exercise ST segment): categorical, 3 values \n",
    "    {1: upsloping, 2: flat, 3: downsloping}\n",
    "21. ca (number of major vessels colored by fluoroscopy): discrete (0,1,2,3)\n",
    "22. thal: categorical, 3 values {3: normal, 6: fixed defect, 7: reversible defect}\n",
    "23. num (diagnosis of heart disease): categorical, 5 values \n",
    "    {0: less than 50% narrowing in any major vessel, \n",
    "    1-4: more than 50% narrowing in 1-4 vessels}"
   ]
  },
  {
   "cell_type": "markdown",
   "metadata": {},
   "source": [
    "<center style=\"color:blue;font-size:30px;font-family:Microsoft JhengHei\"> 跟著做1開頭</center>"
   ]
  },
  {
   "cell_type": "markdown",
   "metadata": {},
   "source": [
    "# <center > Load Data </center>"
   ]
  },
  {
   "cell_type": "code",
   "execution_count": 1,
   "metadata": {},
   "outputs": [],
   "source": [
    "from sklearn.metrics import accuracy_score\n",
    "from sklearn.metrics import precision_recall_fscore_support\n",
    "import matplotlib.pylab as plt\n",
    "import pandas as pd\n",
    "import numpy as np"
   ]
  },
  {
   "cell_type": "code",
   "execution_count": 2,
   "metadata": {},
   "outputs": [
    {
     "data": {
      "text/html": [
       "<div>\n",
       "<style scoped>\n",
       "    .dataframe tbody tr th:only-of-type {\n",
       "        vertical-align: middle;\n",
       "    }\n",
       "\n",
       "    .dataframe tbody tr th {\n",
       "        vertical-align: top;\n",
       "    }\n",
       "\n",
       "    .dataframe thead th {\n",
       "        text-align: right;\n",
       "    }\n",
       "</style>\n",
       "<table border=\"1\" class=\"dataframe\">\n",
       "  <thead>\n",
       "    <tr style=\"text-align: right;\">\n",
       "      <th></th>\n",
       "      <th>age</th>\n",
       "      <th>sex</th>\n",
       "      <th>cp</th>\n",
       "      <th>restbp</th>\n",
       "      <th>chol</th>\n",
       "      <th>fbs</th>\n",
       "      <th>restecg</th>\n",
       "      <th>thalach</th>\n",
       "      <th>exang</th>\n",
       "      <th>oldpeak</th>\n",
       "      <th>slope</th>\n",
       "      <th>ca</th>\n",
       "      <th>thal</th>\n",
       "      <th>num</th>\n",
       "    </tr>\n",
       "  </thead>\n",
       "  <tbody>\n",
       "    <tr>\n",
       "      <th>0</th>\n",
       "      <td>63.0</td>\n",
       "      <td>1.0</td>\n",
       "      <td>1.0</td>\n",
       "      <td>145.0</td>\n",
       "      <td>233.0</td>\n",
       "      <td>1.0</td>\n",
       "      <td>2.0</td>\n",
       "      <td>150.0</td>\n",
       "      <td>0.0</td>\n",
       "      <td>2.3</td>\n",
       "      <td>3.0</td>\n",
       "      <td>0.0</td>\n",
       "      <td>6.0</td>\n",
       "      <td>0</td>\n",
       "    </tr>\n",
       "    <tr>\n",
       "      <th>1</th>\n",
       "      <td>67.0</td>\n",
       "      <td>1.0</td>\n",
       "      <td>4.0</td>\n",
       "      <td>160.0</td>\n",
       "      <td>286.0</td>\n",
       "      <td>0.0</td>\n",
       "      <td>2.0</td>\n",
       "      <td>108.0</td>\n",
       "      <td>1.0</td>\n",
       "      <td>1.5</td>\n",
       "      <td>2.0</td>\n",
       "      <td>3.0</td>\n",
       "      <td>3.0</td>\n",
       "      <td>1</td>\n",
       "    </tr>\n",
       "    <tr>\n",
       "      <th>2</th>\n",
       "      <td>37.0</td>\n",
       "      <td>1.0</td>\n",
       "      <td>3.0</td>\n",
       "      <td>130.0</td>\n",
       "      <td>250.0</td>\n",
       "      <td>0.0</td>\n",
       "      <td>0.0</td>\n",
       "      <td>187.0</td>\n",
       "      <td>0.0</td>\n",
       "      <td>3.5</td>\n",
       "      <td>3.0</td>\n",
       "      <td>0.0</td>\n",
       "      <td>3.0</td>\n",
       "      <td>0</td>\n",
       "    </tr>\n",
       "    <tr>\n",
       "      <th>3</th>\n",
       "      <td>41.0</td>\n",
       "      <td>0.0</td>\n",
       "      <td>2.0</td>\n",
       "      <td>130.0</td>\n",
       "      <td>204.0</td>\n",
       "      <td>0.0</td>\n",
       "      <td>2.0</td>\n",
       "      <td>172.0</td>\n",
       "      <td>0.0</td>\n",
       "      <td>1.4</td>\n",
       "      <td>1.0</td>\n",
       "      <td>0.0</td>\n",
       "      <td>3.0</td>\n",
       "      <td>0</td>\n",
       "    </tr>\n",
       "    <tr>\n",
       "      <th>4</th>\n",
       "      <td>56.0</td>\n",
       "      <td>1.0</td>\n",
       "      <td>2.0</td>\n",
       "      <td>120.0</td>\n",
       "      <td>236.0</td>\n",
       "      <td>0.0</td>\n",
       "      <td>0.0</td>\n",
       "      <td>178.0</td>\n",
       "      <td>0.0</td>\n",
       "      <td>0.8</td>\n",
       "      <td>1.0</td>\n",
       "      <td>0.0</td>\n",
       "      <td>3.0</td>\n",
       "      <td>0</td>\n",
       "    </tr>\n",
       "  </tbody>\n",
       "</table>\n",
       "</div>"
      ],
      "text/plain": [
       "    age  sex   cp  restbp   chol  fbs  restecg  thalach  exang  oldpeak  \\\n",
       "0  63.0  1.0  1.0   145.0  233.0  1.0      2.0    150.0    0.0      2.3   \n",
       "1  67.0  1.0  4.0   160.0  286.0  0.0      2.0    108.0    1.0      1.5   \n",
       "2  37.0  1.0  3.0   130.0  250.0  0.0      0.0    187.0    0.0      3.5   \n",
       "3  41.0  0.0  2.0   130.0  204.0  0.0      2.0    172.0    0.0      1.4   \n",
       "4  56.0  1.0  2.0   120.0  236.0  0.0      0.0    178.0    0.0      0.8   \n",
       "\n",
       "   slope   ca thal  num  \n",
       "0    3.0  0.0  6.0    0  \n",
       "1    2.0  3.0  3.0    1  \n",
       "2    3.0  0.0  3.0    0  \n",
       "3    1.0  0.0  3.0    0  \n",
       "4    1.0  0.0  3.0    0  "
      ]
     },
     "execution_count": 2,
     "metadata": {},
     "output_type": "execute_result"
    }
   ],
   "source": [
    "df = pd.read_csv('cleveland.dat', header=None, sep=', ', engine='python')\n",
    "# columns setting\n",
    "df.columns = [\"age\", \"sex\", \"cp\", \"restbp\", \"chol\", \"fbs\", \"restecg\", \n",
    "              \"thalach\", \"exang\", \"oldpeak\", \"slope\", \"ca\", \"thal\", \"num\"]\n",
    "\n",
    "for i in range(1,5):\n",
    "    df['num'] = df['num'].replace(i,1)\n",
    "\n",
    "df.head() #show出前五筆資料"
   ]
  },
  {
   "cell_type": "markdown",
   "metadata": {},
   "source": [
    "# <center> Data Explore </center>"
   ]
  },
  {
   "cell_type": "code",
   "execution_count": 3,
   "metadata": {},
   "outputs": [
    {
     "data": {
      "text/html": [
       "<div>\n",
       "<style scoped>\n",
       "    .dataframe tbody tr th:only-of-type {\n",
       "        vertical-align: middle;\n",
       "    }\n",
       "\n",
       "    .dataframe tbody tr th {\n",
       "        vertical-align: top;\n",
       "    }\n",
       "\n",
       "    .dataframe thead th {\n",
       "        text-align: right;\n",
       "    }\n",
       "</style>\n",
       "<table border=\"1\" class=\"dataframe\">\n",
       "  <thead>\n",
       "    <tr style=\"text-align: right;\">\n",
       "      <th></th>\n",
       "      <th>age</th>\n",
       "      <th>sex</th>\n",
       "      <th>cp</th>\n",
       "      <th>restbp</th>\n",
       "      <th>chol</th>\n",
       "      <th>fbs</th>\n",
       "      <th>restecg</th>\n",
       "      <th>thalach</th>\n",
       "      <th>exang</th>\n",
       "      <th>oldpeak</th>\n",
       "      <th>slope</th>\n",
       "      <th>num</th>\n",
       "    </tr>\n",
       "  </thead>\n",
       "  <tbody>\n",
       "    <tr>\n",
       "      <th>count</th>\n",
       "      <td>303.000000</td>\n",
       "      <td>303.000000</td>\n",
       "      <td>303.000000</td>\n",
       "      <td>303.000000</td>\n",
       "      <td>303.000000</td>\n",
       "      <td>303.000000</td>\n",
       "      <td>303.000000</td>\n",
       "      <td>303.000000</td>\n",
       "      <td>303.000000</td>\n",
       "      <td>303.000000</td>\n",
       "      <td>303.000000</td>\n",
       "      <td>303.000000</td>\n",
       "    </tr>\n",
       "    <tr>\n",
       "      <th>mean</th>\n",
       "      <td>54.438944</td>\n",
       "      <td>0.679868</td>\n",
       "      <td>3.158416</td>\n",
       "      <td>131.689769</td>\n",
       "      <td>246.693069</td>\n",
       "      <td>0.148515</td>\n",
       "      <td>0.990099</td>\n",
       "      <td>149.607261</td>\n",
       "      <td>0.326733</td>\n",
       "      <td>1.039604</td>\n",
       "      <td>1.600660</td>\n",
       "      <td>0.458746</td>\n",
       "    </tr>\n",
       "    <tr>\n",
       "      <th>std</th>\n",
       "      <td>9.038662</td>\n",
       "      <td>0.467299</td>\n",
       "      <td>0.960126</td>\n",
       "      <td>17.599748</td>\n",
       "      <td>51.776918</td>\n",
       "      <td>0.356198</td>\n",
       "      <td>0.994971</td>\n",
       "      <td>22.875003</td>\n",
       "      <td>0.469794</td>\n",
       "      <td>1.161075</td>\n",
       "      <td>0.616226</td>\n",
       "      <td>0.499120</td>\n",
       "    </tr>\n",
       "    <tr>\n",
       "      <th>min</th>\n",
       "      <td>29.000000</td>\n",
       "      <td>0.000000</td>\n",
       "      <td>1.000000</td>\n",
       "      <td>94.000000</td>\n",
       "      <td>126.000000</td>\n",
       "      <td>0.000000</td>\n",
       "      <td>0.000000</td>\n",
       "      <td>71.000000</td>\n",
       "      <td>0.000000</td>\n",
       "      <td>0.000000</td>\n",
       "      <td>1.000000</td>\n",
       "      <td>0.000000</td>\n",
       "    </tr>\n",
       "    <tr>\n",
       "      <th>25%</th>\n",
       "      <td>48.000000</td>\n",
       "      <td>0.000000</td>\n",
       "      <td>3.000000</td>\n",
       "      <td>120.000000</td>\n",
       "      <td>211.000000</td>\n",
       "      <td>0.000000</td>\n",
       "      <td>0.000000</td>\n",
       "      <td>133.500000</td>\n",
       "      <td>0.000000</td>\n",
       "      <td>0.000000</td>\n",
       "      <td>1.000000</td>\n",
       "      <td>0.000000</td>\n",
       "    </tr>\n",
       "    <tr>\n",
       "      <th>50%</th>\n",
       "      <td>56.000000</td>\n",
       "      <td>1.000000</td>\n",
       "      <td>3.000000</td>\n",
       "      <td>130.000000</td>\n",
       "      <td>241.000000</td>\n",
       "      <td>0.000000</td>\n",
       "      <td>1.000000</td>\n",
       "      <td>153.000000</td>\n",
       "      <td>0.000000</td>\n",
       "      <td>0.800000</td>\n",
       "      <td>2.000000</td>\n",
       "      <td>0.000000</td>\n",
       "    </tr>\n",
       "    <tr>\n",
       "      <th>75%</th>\n",
       "      <td>61.000000</td>\n",
       "      <td>1.000000</td>\n",
       "      <td>4.000000</td>\n",
       "      <td>140.000000</td>\n",
       "      <td>275.000000</td>\n",
       "      <td>0.000000</td>\n",
       "      <td>2.000000</td>\n",
       "      <td>166.000000</td>\n",
       "      <td>1.000000</td>\n",
       "      <td>1.600000</td>\n",
       "      <td>2.000000</td>\n",
       "      <td>1.000000</td>\n",
       "    </tr>\n",
       "    <tr>\n",
       "      <th>max</th>\n",
       "      <td>77.000000</td>\n",
       "      <td>1.000000</td>\n",
       "      <td>4.000000</td>\n",
       "      <td>200.000000</td>\n",
       "      <td>564.000000</td>\n",
       "      <td>1.000000</td>\n",
       "      <td>2.000000</td>\n",
       "      <td>202.000000</td>\n",
       "      <td>1.000000</td>\n",
       "      <td>6.200000</td>\n",
       "      <td>3.000000</td>\n",
       "      <td>1.000000</td>\n",
       "    </tr>\n",
       "  </tbody>\n",
       "</table>\n",
       "</div>"
      ],
      "text/plain": [
       "              age         sex          cp      restbp        chol         fbs  \\\n",
       "count  303.000000  303.000000  303.000000  303.000000  303.000000  303.000000   \n",
       "mean    54.438944    0.679868    3.158416  131.689769  246.693069    0.148515   \n",
       "std      9.038662    0.467299    0.960126   17.599748   51.776918    0.356198   \n",
       "min     29.000000    0.000000    1.000000   94.000000  126.000000    0.000000   \n",
       "25%     48.000000    0.000000    3.000000  120.000000  211.000000    0.000000   \n",
       "50%     56.000000    1.000000    3.000000  130.000000  241.000000    0.000000   \n",
       "75%     61.000000    1.000000    4.000000  140.000000  275.000000    0.000000   \n",
       "max     77.000000    1.000000    4.000000  200.000000  564.000000    1.000000   \n",
       "\n",
       "          restecg     thalach       exang     oldpeak       slope         num  \n",
       "count  303.000000  303.000000  303.000000  303.000000  303.000000  303.000000  \n",
       "mean     0.990099  149.607261    0.326733    1.039604    1.600660    0.458746  \n",
       "std      0.994971   22.875003    0.469794    1.161075    0.616226    0.499120  \n",
       "min      0.000000   71.000000    0.000000    0.000000    1.000000    0.000000  \n",
       "25%      0.000000  133.500000    0.000000    0.000000    1.000000    0.000000  \n",
       "50%      1.000000  153.000000    0.000000    0.800000    2.000000    0.000000  \n",
       "75%      2.000000  166.000000    1.000000    1.600000    2.000000    1.000000  \n",
       "max      2.000000  202.000000    1.000000    6.200000    3.000000    1.000000  "
      ]
     },
     "execution_count": 3,
     "metadata": {},
     "output_type": "execute_result"
    }
   ],
   "source": [
    "#欄位的各個統計值\n",
    "df.describe()"
   ]
  },
  {
   "cell_type": "markdown",
   "metadata": {},
   "source": [
    "<br>\n",
    "<center style=\"color:blue;font-size:25px;font-family:Microsoft JhengHei\"> 改改看畫age與chol </center>"
   ]
  },
  {
   "cell_type": "code",
   "execution_count": 4,
   "metadata": {},
   "outputs": [
    {
     "data": {
      "image/png": "[encoded data removed]",
      "text/plain": [
       "<matplotlib.figure.Figure at 0x18cdf532f98>"
      ]
     },
     "metadata": {},
     "output_type": "display_data"
    }
   ],
   "source": [
    "fig, axes = plt.subplots( nrows=2, ncols=2, figsize=(10,10) )\n",
    "plt.suptitle(\"Correlations\", fontsize=20)\n",
    "axes[0,0].scatter(df[df.num==1].age,df[df.num==1].thalach,color=[\"crimson\"],s=20,alpha=0.8,label=\"disease\")\n",
    "axes[0,0].scatter(df[df.num==0].age,df[df.num==0].thalach,color=[\"chartreuse\"],s=20,label=\"no disease\")\n",
    "axes[0,0].set_xlabel(\"age\")\n",
    "axes[0,0].set_ylabel(\"thalach\")\n",
    "axes[0,0].legend(prop={'size': 10},loc=\"lower left\") #圖例setting\n",
    "\n",
    "axes[0,1].scatter(df[df.num==1].age,df[df.num==1].restbp,color=[\"crimson\"],s=20,alpha=0.8,label=\"disease\")\n",
    "axes[0,1].scatter(df[df.num==0].age,df[df.num==0].restbp,color=[\"chartreuse\"],s=20,label=\"no disease\")\n",
    "axes[0,1].set_xlabel(\"age\")\n",
    "axes[0,1].set_ylabel(\"restbp\")\n",
    "\n",
    "axes[1,0].scatter(df[df.num==1].age,df[df.num==1].oldpeak,color=[\"crimson\"],s=20,alpha=0.8,label=\"disease\")\n",
    "axes[1,0].scatter(df[df.num==0].age,df[df.num==0].oldpeak,color=[\"chartreuse\"],s=20,label=\"no disease\")\n",
    "axes[1,0].set_xlabel(\"age\")\n",
    "axes[1,0].set_ylabel(\"oldpeak\")\n",
    "\n",
    "axes[1,1].scatter(df[df.num==1].thalach,df[df.num==1].oldpeak,color=[\"crimson\"],s=20,alpha=0.8,label=\"disease\")\n",
    "axes[1,1].scatter(df[df.num==0].thalach,df[df.num==0].oldpeak,color=[\"chartreuse\"],s=20,label=\"no disease\")\n",
    "axes[1,1].set_xlabel(\"thalach\")\n",
    "axes[1,1].set_ylabel(\"oldpeak\")\n",
    "\n",
    "plt.show()"
   ]
  },
  {
   "cell_type": "markdown",
   "metadata": {},
   "source": [
    "# <center> Data Preprocessing </center>"
   ]
  },
  {
   "cell_type": "markdown",
   "metadata": {},
   "source": [
    "<center style=\"color:blue;font-size:30px;font-family:Microsoft JhengHei\"> 跟著做2開頭 </center>\n"
   ]
  },
  {
   "cell_type": "markdown",
   "metadata": {},
   "source": [
    "## 處理異常值"
   ]
  },
  {
   "cell_type": "code",
   "execution_count": 5,
   "metadata": {},
   "outputs": [
    {
     "data": {
      "text/plain": [
       "age        float64\n",
       "sex        float64\n",
       "cp         float64\n",
       "restbp     float64\n",
       "chol       float64\n",
       "fbs        float64\n",
       "restecg    float64\n",
       "thalach    float64\n",
       "exang      float64\n",
       "oldpeak    float64\n",
       "slope      float64\n",
       "ca          object\n",
       "thal        object\n",
       "num          int64\n",
       "dtype: object"
      ]
     },
     "execution_count": 5,
     "metadata": {},
     "output_type": "execute_result"
    }
   ],
   "source": [
    "#觀察每個欄位的型態(發現thal, ca有異常值)\n",
    "df.dtypes"
   ]
  },
  {
   "cell_type": "code",
   "execution_count": 6,
   "metadata": {
    "scrolled": true
   },
   "outputs": [
    {
     "name": "stdout",
     "output_type": "stream",
     "text": [
      "?  index: 154\n",
      "?  index: 177\n",
      "?  index: 261\n",
      "?  index: 272\n"
     ]
    }
   ],
   "source": [
    "for i in range(len(df['ca'].tolist())):\n",
    "    val = df['ca'][i]\n",
    "    if (val != '0.0') and (val != '1.0') and (val != '2.0') and (val != '3.0'):\n",
    "        print(val,\" index:\", i)"
   ]
  },
  {
   "cell_type": "code",
   "execution_count": 7,
   "metadata": {
    "scrolled": false
   },
   "outputs": [
    {
     "name": "stdout",
     "output_type": "stream",
     "text": [
      "?  index: 81\n",
      "?  index: 244\n"
     ]
    }
   ],
   "source": [
    "for i in range(len(df['thal'].tolist())):\n",
    "    val = df['thal'][i]\n",
    "    if (val != '3.0') and (val != '6.0') and (val != '7.0'):\n",
    "        print(val,\" index:\", i)"
   ]
  },
  {
   "cell_type": "code",
   "execution_count": 8,
   "metadata": {},
   "outputs": [
    {
     "data": {
      "text/html": [
       "<div>\n",
       "<style scoped>\n",
       "    .dataframe tbody tr th:only-of-type {\n",
       "        vertical-align: middle;\n",
       "    }\n",
       "\n",
       "    .dataframe tbody tr th {\n",
       "        vertical-align: top;\n",
       "    }\n",
       "\n",
       "    .dataframe thead th {\n",
       "        text-align: right;\n",
       "    }\n",
       "</style>\n",
       "<table border=\"1\" class=\"dataframe\">\n",
       "  <thead>\n",
       "    <tr style=\"text-align: right;\">\n",
       "      <th></th>\n",
       "      <th>age</th>\n",
       "      <th>sex</th>\n",
       "      <th>cp</th>\n",
       "      <th>restbp</th>\n",
       "      <th>chol</th>\n",
       "      <th>fbs</th>\n",
       "      <th>restecg</th>\n",
       "      <th>thalach</th>\n",
       "      <th>exang</th>\n",
       "      <th>oldpeak</th>\n",
       "      <th>slope</th>\n",
       "      <th>ca</th>\n",
       "      <th>thal</th>\n",
       "      <th>num</th>\n",
       "    </tr>\n",
       "  </thead>\n",
       "  <tbody>\n",
       "    <tr>\n",
       "      <th>154</th>\n",
       "      <td>52.0</td>\n",
       "      <td>1.0</td>\n",
       "      <td>3.0</td>\n",
       "      <td>138.0</td>\n",
       "      <td>223.0</td>\n",
       "      <td>0.0</td>\n",
       "      <td>0.0</td>\n",
       "      <td>169.0</td>\n",
       "      <td>0.0</td>\n",
       "      <td>0.0</td>\n",
       "      <td>1.0</td>\n",
       "      <td>?</td>\n",
       "      <td>3.0</td>\n",
       "      <td>0</td>\n",
       "    </tr>\n",
       "  </tbody>\n",
       "</table>\n",
       "</div>"
      ],
      "text/plain": [
       "      age  sex   cp  restbp   chol  fbs  restecg  thalach  exang  oldpeak  \\\n",
       "154  52.0  1.0  3.0   138.0  223.0  0.0      0.0    169.0    0.0      0.0   \n",
       "\n",
       "     slope ca thal  num  \n",
       "154    1.0  ?  3.0    0  "
      ]
     },
     "execution_count": 8,
     "metadata": {},
     "output_type": "execute_result"
    }
   ],
   "source": [
    "df.iloc[154:155]"
   ]
  },
  {
   "cell_type": "code",
   "execution_count": 9,
   "metadata": {},
   "outputs": [
    {
     "data": {
      "text/html": [
       "<div>\n",
       "<style scoped>\n",
       "    .dataframe tbody tr th:only-of-type {\n",
       "        vertical-align: middle;\n",
       "    }\n",
       "\n",
       "    .dataframe tbody tr th {\n",
       "        vertical-align: top;\n",
       "    }\n",
       "\n",
       "    .dataframe thead th {\n",
       "        text-align: right;\n",
       "    }\n",
       "</style>\n",
       "<table border=\"1\" class=\"dataframe\">\n",
       "  <thead>\n",
       "    <tr style=\"text-align: right;\">\n",
       "      <th></th>\n",
       "      <th>age</th>\n",
       "      <th>sex</th>\n",
       "      <th>cp</th>\n",
       "      <th>restbp</th>\n",
       "      <th>chol</th>\n",
       "      <th>fbs</th>\n",
       "      <th>restecg</th>\n",
       "      <th>thalach</th>\n",
       "      <th>exang</th>\n",
       "      <th>oldpeak</th>\n",
       "      <th>slope</th>\n",
       "      <th>ca</th>\n",
       "      <th>thal</th>\n",
       "      <th>num</th>\n",
       "    </tr>\n",
       "  </thead>\n",
       "  <tbody>\n",
       "    <tr>\n",
       "      <th>154</th>\n",
       "      <td>52.0</td>\n",
       "      <td>1.0</td>\n",
       "      <td>3.0</td>\n",
       "      <td>138.0</td>\n",
       "      <td>223.0</td>\n",
       "      <td>0.0</td>\n",
       "      <td>0.0</td>\n",
       "      <td>169.0</td>\n",
       "      <td>0.0</td>\n",
       "      <td>0.0</td>\n",
       "      <td>1.0</td>\n",
       "      <td>NaN</td>\n",
       "      <td>3.0</td>\n",
       "      <td>0</td>\n",
       "    </tr>\n",
       "  </tbody>\n",
       "</table>\n",
       "</div>"
      ],
      "text/plain": [
       "      age  sex   cp  restbp   chol  fbs  restecg  thalach  exang  oldpeak  \\\n",
       "154  52.0  1.0  3.0   138.0  223.0  0.0      0.0    169.0    0.0      0.0   \n",
       "\n",
       "     slope   ca thal  num  \n",
       "154    1.0  NaN  3.0    0  "
      ]
     },
     "execution_count": 9,
     "metadata": {},
     "output_type": "execute_result"
    }
   ],
   "source": [
    "df = df.replace('?', np.nan)\n",
    "df.iloc[154:155]"
   ]
  },
  {
   "cell_type": "markdown",
   "metadata": {},
   "source": [
    "## 處理 missing vale \n"
   ]
  },
  {
   "cell_type": "code",
   "execution_count": 10,
   "metadata": {},
   "outputs": [
    {
     "data": {
      "text/html": [
       "<div>\n",
       "<style scoped>\n",
       "    .dataframe tbody tr th:only-of-type {\n",
       "        vertical-align: middle;\n",
       "    }\n",
       "\n",
       "    .dataframe tbody tr th {\n",
       "        vertical-align: top;\n",
       "    }\n",
       "\n",
       "    .dataframe thead th {\n",
       "        text-align: right;\n",
       "    }\n",
       "</style>\n",
       "<table border=\"1\" class=\"dataframe\">\n",
       "  <thead>\n",
       "    <tr style=\"text-align: right;\">\n",
       "      <th></th>\n",
       "      <th>age</th>\n",
       "      <th>sex</th>\n",
       "      <th>cp</th>\n",
       "      <th>restbp</th>\n",
       "      <th>chol</th>\n",
       "      <th>fbs</th>\n",
       "      <th>restecg</th>\n",
       "      <th>thalach</th>\n",
       "      <th>exang</th>\n",
       "      <th>oldpeak</th>\n",
       "      <th>slope</th>\n",
       "      <th>ca</th>\n",
       "      <th>thal</th>\n",
       "    </tr>\n",
       "    <tr>\n",
       "      <th>num</th>\n",
       "      <th></th>\n",
       "      <th></th>\n",
       "      <th></th>\n",
       "      <th></th>\n",
       "      <th></th>\n",
       "      <th></th>\n",
       "      <th></th>\n",
       "      <th></th>\n",
       "      <th></th>\n",
       "      <th></th>\n",
       "      <th></th>\n",
       "      <th></th>\n",
       "      <th></th>\n",
       "    </tr>\n",
       "  </thead>\n",
       "  <tbody>\n",
       "    <tr>\n",
       "      <th>0</th>\n",
       "      <td>164</td>\n",
       "      <td>164</td>\n",
       "      <td>164</td>\n",
       "      <td>164</td>\n",
       "      <td>164</td>\n",
       "      <td>164</td>\n",
       "      <td>164</td>\n",
       "      <td>164</td>\n",
       "      <td>164</td>\n",
       "      <td>164</td>\n",
       "      <td>164</td>\n",
       "      <td>161</td>\n",
       "      <td>163</td>\n",
       "    </tr>\n",
       "    <tr>\n",
       "      <th>1</th>\n",
       "      <td>139</td>\n",
       "      <td>139</td>\n",
       "      <td>139</td>\n",
       "      <td>139</td>\n",
       "      <td>139</td>\n",
       "      <td>139</td>\n",
       "      <td>139</td>\n",
       "      <td>139</td>\n",
       "      <td>139</td>\n",
       "      <td>139</td>\n",
       "      <td>139</td>\n",
       "      <td>138</td>\n",
       "      <td>138</td>\n",
       "    </tr>\n",
       "  </tbody>\n",
       "</table>\n",
       "</div>"
      ],
      "text/plain": [
       "     age  sex   cp  restbp  chol  fbs  restecg  thalach  exang  oldpeak  \\\n",
       "num                                                                       \n",
       "0    164  164  164     164   164  164      164      164    164      164   \n",
       "1    139  139  139     139   139  139      139      139    139      139   \n",
       "\n",
       "     slope   ca  thal  \n",
       "num                    \n",
       "0      164  161   163  \n",
       "1      139  138   138  "
      ]
     },
     "execution_count": 10,
     "metadata": {},
     "output_type": "execute_result"
    }
   ],
   "source": [
    "#針對num欄位觀察其他欄位數量 \n",
    "df.groupby('num').count()"
   ]
  },
  {
   "cell_type": "code",
   "execution_count": 11,
   "metadata": {},
   "outputs": [
    {
     "data": {
      "text/html": [
       "<div>\n",
       "<style scoped>\n",
       "    .dataframe tbody tr th:only-of-type {\n",
       "        vertical-align: middle;\n",
       "    }\n",
       "\n",
       "    .dataframe tbody tr th {\n",
       "        vertical-align: top;\n",
       "    }\n",
       "\n",
       "    .dataframe thead th {\n",
       "        text-align: right;\n",
       "    }\n",
       "</style>\n",
       "<table border=\"1\" class=\"dataframe\">\n",
       "  <thead>\n",
       "    <tr style=\"text-align: right;\">\n",
       "      <th></th>\n",
       "      <th>age</th>\n",
       "      <th>sex</th>\n",
       "      <th>cp</th>\n",
       "      <th>restbp</th>\n",
       "      <th>chol</th>\n",
       "      <th>fbs</th>\n",
       "      <th>restecg</th>\n",
       "      <th>thalach</th>\n",
       "      <th>exang</th>\n",
       "      <th>oldpeak</th>\n",
       "      <th>slope</th>\n",
       "      <th>ca</th>\n",
       "      <th>thal</th>\n",
       "      <th>num</th>\n",
       "    </tr>\n",
       "  </thead>\n",
       "  <tbody>\n",
       "    <tr>\n",
       "      <th>154</th>\n",
       "      <td>52.0</td>\n",
       "      <td>1.0</td>\n",
       "      <td>3.0</td>\n",
       "      <td>138.0</td>\n",
       "      <td>223.0</td>\n",
       "      <td>0.0</td>\n",
       "      <td>0.0</td>\n",
       "      <td>169.0</td>\n",
       "      <td>0.0</td>\n",
       "      <td>0.0</td>\n",
       "      <td>1.0</td>\n",
       "      <td>NaN</td>\n",
       "      <td>3.0</td>\n",
       "      <td>0</td>\n",
       "    </tr>\n",
       "    <tr>\n",
       "      <th>177</th>\n",
       "      <td>43.0</td>\n",
       "      <td>1.0</td>\n",
       "      <td>4.0</td>\n",
       "      <td>132.0</td>\n",
       "      <td>247.0</td>\n",
       "      <td>1.0</td>\n",
       "      <td>2.0</td>\n",
       "      <td>143.0</td>\n",
       "      <td>1.0</td>\n",
       "      <td>0.1</td>\n",
       "      <td>2.0</td>\n",
       "      <td>NaN</td>\n",
       "      <td>7.0</td>\n",
       "      <td>1</td>\n",
       "    </tr>\n",
       "    <tr>\n",
       "      <th>261</th>\n",
       "      <td>58.0</td>\n",
       "      <td>1.0</td>\n",
       "      <td>2.0</td>\n",
       "      <td>125.0</td>\n",
       "      <td>220.0</td>\n",
       "      <td>0.0</td>\n",
       "      <td>0.0</td>\n",
       "      <td>144.0</td>\n",
       "      <td>0.0</td>\n",
       "      <td>0.4</td>\n",
       "      <td>2.0</td>\n",
       "      <td>NaN</td>\n",
       "      <td>7.0</td>\n",
       "      <td>0</td>\n",
       "    </tr>\n",
       "    <tr>\n",
       "      <th>272</th>\n",
       "      <td>38.0</td>\n",
       "      <td>1.0</td>\n",
       "      <td>3.0</td>\n",
       "      <td>138.0</td>\n",
       "      <td>175.0</td>\n",
       "      <td>0.0</td>\n",
       "      <td>0.0</td>\n",
       "      <td>173.0</td>\n",
       "      <td>0.0</td>\n",
       "      <td>0.0</td>\n",
       "      <td>1.0</td>\n",
       "      <td>NaN</td>\n",
       "      <td>3.0</td>\n",
       "      <td>0</td>\n",
       "    </tr>\n",
       "  </tbody>\n",
       "</table>\n",
       "</div>"
      ],
      "text/plain": [
       "      age  sex   cp  restbp   chol  fbs  restecg  thalach  exang  oldpeak  \\\n",
       "154  52.0  1.0  3.0   138.0  223.0  0.0      0.0    169.0    0.0      0.0   \n",
       "177  43.0  1.0  4.0   132.0  247.0  1.0      2.0    143.0    1.0      0.1   \n",
       "261  58.0  1.0  2.0   125.0  220.0  0.0      0.0    144.0    0.0      0.4   \n",
       "272  38.0  1.0  3.0   138.0  175.0  0.0      0.0    173.0    0.0      0.0   \n",
       "\n",
       "     slope   ca thal  num  \n",
       "154    1.0  NaN  3.0    0  \n",
       "177    2.0  NaN  7.0    1  \n",
       "261    2.0  NaN  7.0    0  \n",
       "272    1.0  NaN  3.0    0  "
      ]
     },
     "execution_count": 11,
     "metadata": {},
     "output_type": "execute_result"
    }
   ],
   "source": [
    "#針對 ca欄位檢查缺失值\n",
    "df[df['ca'].isnull()]"
   ]
  },
  {
   "cell_type": "markdown",
   "metadata": {},
   "source": [
    "#### 方法1 : 丟掉該筆資料"
   ]
  },
  {
   "cell_type": "code",
   "execution_count": 12,
   "metadata": {},
   "outputs": [],
   "source": [
    "# drop missing values\n",
    "df_drop = df.dropna()"
   ]
  },
  {
   "cell_type": "code",
   "execution_count": 13,
   "metadata": {},
   "outputs": [
    {
     "name": "stdout",
     "output_type": "stream",
     "text": [
      "before drop, data size:  303\n",
      "after drop, data size:  297\n"
     ]
    }
   ],
   "source": [
    "print('before drop, data size: ',len(df))\n",
    "print('after drop, data size: ',len(df_drop))"
   ]
  },
  {
   "cell_type": "markdown",
   "metadata": {},
   "source": [
    "#### 方法2 : 補缺值 (利用Imputer)\n",
    "(1)用mean值代替\n",
    "(2)用median代替\n",
    "(3)用most_frequent代替\n"
   ]
  },
  {
   "cell_type": "code",
   "execution_count": 14,
   "metadata": {},
   "outputs": [
    {
     "data": {
      "text/html": [
       "<div>\n",
       "<style scoped>\n",
       "    .dataframe tbody tr th:only-of-type {\n",
       "        vertical-align: middle;\n",
       "    }\n",
       "\n",
       "    .dataframe tbody tr th {\n",
       "        vertical-align: top;\n",
       "    }\n",
       "\n",
       "    .dataframe thead th {\n",
       "        text-align: right;\n",
       "    }\n",
       "</style>\n",
       "<table border=\"1\" class=\"dataframe\">\n",
       "  <thead>\n",
       "    <tr style=\"text-align: right;\">\n",
       "      <th></th>\n",
       "      <th>age</th>\n",
       "      <th>sex</th>\n",
       "      <th>cp</th>\n",
       "      <th>restbp</th>\n",
       "      <th>chol</th>\n",
       "      <th>fbs</th>\n",
       "      <th>restecg</th>\n",
       "      <th>thalach</th>\n",
       "      <th>exang</th>\n",
       "      <th>oldpeak</th>\n",
       "      <th>slope</th>\n",
       "      <th>ca</th>\n",
       "      <th>thal</th>\n",
       "    </tr>\n",
       "    <tr>\n",
       "      <th>num</th>\n",
       "      <th></th>\n",
       "      <th></th>\n",
       "      <th></th>\n",
       "      <th></th>\n",
       "      <th></th>\n",
       "      <th></th>\n",
       "      <th></th>\n",
       "      <th></th>\n",
       "      <th></th>\n",
       "      <th></th>\n",
       "      <th></th>\n",
       "      <th></th>\n",
       "      <th></th>\n",
       "    </tr>\n",
       "  </thead>\n",
       "  <tbody>\n",
       "    <tr>\n",
       "      <th>0.0</th>\n",
       "      <td>164</td>\n",
       "      <td>164</td>\n",
       "      <td>164</td>\n",
       "      <td>164</td>\n",
       "      <td>164</td>\n",
       "      <td>164</td>\n",
       "      <td>164</td>\n",
       "      <td>164</td>\n",
       "      <td>164</td>\n",
       "      <td>164</td>\n",
       "      <td>164</td>\n",
       "      <td>164</td>\n",
       "      <td>164</td>\n",
       "    </tr>\n",
       "    <tr>\n",
       "      <th>1.0</th>\n",
       "      <td>139</td>\n",
       "      <td>139</td>\n",
       "      <td>139</td>\n",
       "      <td>139</td>\n",
       "      <td>139</td>\n",
       "      <td>139</td>\n",
       "      <td>139</td>\n",
       "      <td>139</td>\n",
       "      <td>139</td>\n",
       "      <td>139</td>\n",
       "      <td>139</td>\n",
       "      <td>139</td>\n",
       "      <td>139</td>\n",
       "    </tr>\n",
       "  </tbody>\n",
       "</table>\n",
       "</div>"
      ],
      "text/plain": [
       "     age  sex   cp  restbp  chol  fbs  restecg  thalach  exang  oldpeak  \\\n",
       "num                                                                       \n",
       "0.0  164  164  164     164   164  164      164      164    164      164   \n",
       "1.0  139  139  139     139   139  139      139      139    139      139   \n",
       "\n",
       "     slope   ca  thal  \n",
       "num                    \n",
       "0.0    164  164   164  \n",
       "1.0    139  139   139  "
      ]
     },
     "execution_count": 14,
     "metadata": {},
     "output_type": "execute_result"
    }
   ],
   "source": [
    "from sklearn.preprocessing import Imputer\n",
    "imr = Imputer(missing_values='NaN', strategy='most_frequent', axis=0) #strategy可以替換成mean或是median\n",
    "imr = imr.fit(df.values)\n",
    "imputed_data = imr.transform(df.values)\n",
    "\n",
    "df_impute = pd.DataFrame(imputed_data)\n",
    "df_impute.columns = df.columns\n",
    "\n",
    "#針對num欄位觀察其他欄位數量\n",
    "df_impute.groupby('num').count()"
   ]
  },
  {
   "cell_type": "markdown",
   "metadata": {},
   "source": [
    "## 類別型資料做 one-hot encoding "
   ]
  },
  {
   "cell_type": "code",
   "execution_count": 15,
   "metadata": {},
   "outputs": [
    {
     "name": "stderr",
     "output_type": "stream",
     "text": [
      "C:\\Users\\USER\\Anaconda3\\lib\\site-packages\\ipykernel_launcher.py:4: SettingWithCopyWarning: \n",
      "A value is trying to be set on a copy of a slice from a DataFrame.\n",
      "Try using .loc[row_indexer,col_indexer] = value instead\n",
      "\n",
      "See the caveats in the documentation: http://pandas.pydata.org/pandas-docs/stable/indexing.html#indexing-view-versus-copy\n",
      "  after removing the cwd from sys.path.\n"
     ]
    },
    {
     "data": {
      "text/html": [
       "<div>\n",
       "<style scoped>\n",
       "    .dataframe tbody tr th:only-of-type {\n",
       "        vertical-align: middle;\n",
       "    }\n",
       "\n",
       "    .dataframe tbody tr th {\n",
       "        vertical-align: top;\n",
       "    }\n",
       "\n",
       "    .dataframe thead th {\n",
       "        text-align: right;\n",
       "    }\n",
       "</style>\n",
       "<table border=\"1\" class=\"dataframe\">\n",
       "  <thead>\n",
       "    <tr style=\"text-align: right;\">\n",
       "      <th></th>\n",
       "      <th>age</th>\n",
       "      <th>restbp</th>\n",
       "      <th>chol</th>\n",
       "      <th>thalach</th>\n",
       "      <th>oldpeak</th>\n",
       "      <th>num</th>\n",
       "      <th>sex_0.0</th>\n",
       "      <th>sex_1.0</th>\n",
       "      <th>cp_1.0</th>\n",
       "      <th>cp_2.0</th>\n",
       "      <th>...</th>\n",
       "      <th>slope_1.0</th>\n",
       "      <th>slope_2.0</th>\n",
       "      <th>slope_3.0</th>\n",
       "      <th>ca_0.0</th>\n",
       "      <th>ca_1.0</th>\n",
       "      <th>ca_2.0</th>\n",
       "      <th>ca_3.0</th>\n",
       "      <th>thal_3.0</th>\n",
       "      <th>thal_6.0</th>\n",
       "      <th>thal_7.0</th>\n",
       "    </tr>\n",
       "  </thead>\n",
       "  <tbody>\n",
       "    <tr>\n",
       "      <th>0</th>\n",
       "      <td>63.0</td>\n",
       "      <td>145.0</td>\n",
       "      <td>233.0</td>\n",
       "      <td>150.0</td>\n",
       "      <td>2.3</td>\n",
       "      <td>0.0</td>\n",
       "      <td>0</td>\n",
       "      <td>1</td>\n",
       "      <td>1</td>\n",
       "      <td>0</td>\n",
       "      <td>...</td>\n",
       "      <td>0</td>\n",
       "      <td>0</td>\n",
       "      <td>1</td>\n",
       "      <td>1</td>\n",
       "      <td>0</td>\n",
       "      <td>0</td>\n",
       "      <td>0</td>\n",
       "      <td>0</td>\n",
       "      <td>1</td>\n",
       "      <td>0</td>\n",
       "    </tr>\n",
       "    <tr>\n",
       "      <th>1</th>\n",
       "      <td>67.0</td>\n",
       "      <td>160.0</td>\n",
       "      <td>286.0</td>\n",
       "      <td>108.0</td>\n",
       "      <td>1.5</td>\n",
       "      <td>1.0</td>\n",
       "      <td>0</td>\n",
       "      <td>1</td>\n",
       "      <td>0</td>\n",
       "      <td>0</td>\n",
       "      <td>...</td>\n",
       "      <td>0</td>\n",
       "      <td>1</td>\n",
       "      <td>0</td>\n",
       "      <td>0</td>\n",
       "      <td>0</td>\n",
       "      <td>0</td>\n",
       "      <td>1</td>\n",
       "      <td>1</td>\n",
       "      <td>0</td>\n",
       "      <td>0</td>\n",
       "    </tr>\n",
       "    <tr>\n",
       "      <th>2</th>\n",
       "      <td>37.0</td>\n",
       "      <td>130.0</td>\n",
       "      <td>250.0</td>\n",
       "      <td>187.0</td>\n",
       "      <td>3.5</td>\n",
       "      <td>0.0</td>\n",
       "      <td>0</td>\n",
       "      <td>1</td>\n",
       "      <td>0</td>\n",
       "      <td>0</td>\n",
       "      <td>...</td>\n",
       "      <td>0</td>\n",
       "      <td>0</td>\n",
       "      <td>1</td>\n",
       "      <td>1</td>\n",
       "      <td>0</td>\n",
       "      <td>0</td>\n",
       "      <td>0</td>\n",
       "      <td>1</td>\n",
       "      <td>0</td>\n",
       "      <td>0</td>\n",
       "    </tr>\n",
       "    <tr>\n",
       "      <th>3</th>\n",
       "      <td>41.0</td>\n",
       "      <td>130.0</td>\n",
       "      <td>204.0</td>\n",
       "      <td>172.0</td>\n",
       "      <td>1.4</td>\n",
       "      <td>0.0</td>\n",
       "      <td>1</td>\n",
       "      <td>0</td>\n",
       "      <td>0</td>\n",
       "      <td>1</td>\n",
       "      <td>...</td>\n",
       "      <td>1</td>\n",
       "      <td>0</td>\n",
       "      <td>0</td>\n",
       "      <td>1</td>\n",
       "      <td>0</td>\n",
       "      <td>0</td>\n",
       "      <td>0</td>\n",
       "      <td>1</td>\n",
       "      <td>0</td>\n",
       "      <td>0</td>\n",
       "    </tr>\n",
       "    <tr>\n",
       "      <th>4</th>\n",
       "      <td>56.0</td>\n",
       "      <td>120.0</td>\n",
       "      <td>236.0</td>\n",
       "      <td>178.0</td>\n",
       "      <td>0.8</td>\n",
       "      <td>0.0</td>\n",
       "      <td>0</td>\n",
       "      <td>1</td>\n",
       "      <td>0</td>\n",
       "      <td>1</td>\n",
       "      <td>...</td>\n",
       "      <td>1</td>\n",
       "      <td>0</td>\n",
       "      <td>0</td>\n",
       "      <td>1</td>\n",
       "      <td>0</td>\n",
       "      <td>0</td>\n",
       "      <td>0</td>\n",
       "      <td>1</td>\n",
       "      <td>0</td>\n",
       "      <td>0</td>\n",
       "    </tr>\n",
       "  </tbody>\n",
       "</table>\n",
       "<p>5 rows × 29 columns</p>\n",
       "</div>"
      ],
      "text/plain": [
       "    age  restbp   chol  thalach  oldpeak  num  sex_0.0  sex_1.0  cp_1.0  \\\n",
       "0  63.0   145.0  233.0    150.0      2.3  0.0        0        1       1   \n",
       "1  67.0   160.0  286.0    108.0      1.5  1.0        0        1       0   \n",
       "2  37.0   130.0  250.0    187.0      3.5  0.0        0        1       0   \n",
       "3  41.0   130.0  204.0    172.0      1.4  0.0        1        0       0   \n",
       "4  56.0   120.0  236.0    178.0      0.8  0.0        0        1       0   \n",
       "\n",
       "   cp_2.0    ...     slope_1.0  slope_2.0  slope_3.0  ca_0.0  ca_1.0  ca_2.0  \\\n",
       "0       0    ...             0          0          1       1       0       0   \n",
       "1       0    ...             0          1          0       0       0       0   \n",
       "2       0    ...             0          0          1       1       0       0   \n",
       "3       1    ...             1          0          0       1       0       0   \n",
       "4       1    ...             1          0          0       1       0       0   \n",
       "\n",
       "   ca_3.0  thal_3.0  thal_6.0  thal_7.0  \n",
       "0       0         0         1         0  \n",
       "1       1         1         0         0  \n",
       "2       0         1         0         0  \n",
       "3       0         1         0         0  \n",
       "4       0         1         0         0  \n",
       "\n",
       "[5 rows x 29 columns]"
      ]
     },
     "execution_count": 15,
     "metadata": {},
     "output_type": "execute_result"
    }
   ],
   "source": [
    "#將類別型資料轉換為string型態(for get_dummies)\n",
    "for cat_feature in ['sex','cp','fbs','restecg','exang','slope','ca','thal']:\n",
    "    df_impute[cat_feature] = df_impute[cat_feature].astype(str)\n",
    "    df_drop[cat_feature] = df_drop[cat_feature].astype(str)\n",
    "# one-hot encoding\n",
    "df_preprocessed = pd.get_dummies(df_impute)\n",
    "df_preprocessed.head()"
   ]
  },
  {
   "cell_type": "markdown",
   "metadata": {},
   "source": [
    "<center style=\"color:blue;font-size:30px;font-family:Microsoft JhengHei\"> 跟著做3開頭 </center>\n",
    "<br>\n",
    "<center style=\"color:blue;font-size:25px;font-family:Microsoft JhengHei\"> 改改看 test_size </center>"
   ]
  },
  {
   "cell_type": "markdown",
   "metadata": {},
   "source": [
    "## 資料集切割\n",
    "#### 分成training data和 testing data"
   ]
  },
  {
   "cell_type": "code",
   "execution_count": 16,
   "metadata": {},
   "outputs": [
    {
     "name": "stdout",
     "output_type": "stream",
     "text": [
      "training data size: 242\n",
      "testing data size: 61\n"
     ]
    }
   ],
   "source": [
    "from sklearn.model_selection import train_test_split\n",
    "\n",
    "X=df_preprocessed.drop('num', axis=1).values\n",
    "Y=df_preprocessed['num'].values\n",
    "\n",
    "#get training and testing data\n",
    "X_train, X_test, y_train, y_test = train_test_split(X, Y, test_size=0.2, random_state=0)\n",
    "print('training data size:', len(X_train))\n",
    "print('testing data size:', len(X_test))\n",
    "\n",
    "#get features list\n",
    "features = np.array(df_preprocessed.columns)\n",
    "features = np.delete(features, np.where(features=='num')[0][0])\n",
    "features = features.tolist()"
   ]
  },
  {
   "cell_type": "markdown",
   "metadata": {},
   "source": [
    "## 資料標準化"
   ]
  },
  {
   "cell_type": "code",
   "execution_count": 17,
   "metadata": {},
   "outputs": [],
   "source": [
    "from sklearn.preprocessing import StandardScaler\n",
    "sc = StandardScaler()\n",
    "sc.fit(X_train)\n",
    "X_train_std = sc.transform(X_train)\n",
    "X_test_std = sc.transform(X_test)"
   ]
  },
  {
   "cell_type": "markdown",
   "metadata": {},
   "source": [
    "# <center> Classification </center>\n"
   ]
  },
  {
   "cell_type": "markdown",
   "metadata": {},
   "source": [
    "<center style=\"color:blue;font-size:30px;font-family:Microsoft JhengHei\"> 跟著做4開頭 </center>\n",
    "<br>\n",
    "<center style=\"color:blue;font-size:25px;font-family:Microsoft JhengHei\"> 改改看max_depth</center>"
   ]
  },
  {
   "cell_type": "markdown",
   "metadata": {},
   "source": [
    "## Decision Tree"
   ]
  },
  {
   "cell_type": "code",
   "execution_count": 18,
   "metadata": {},
   "outputs": [
    {
     "name": "stdout",
     "output_type": "stream",
     "text": [
      "Decision tree testing result: [ 0.  0.  1.  0.  0.  1.  0.  1.  0.  1.  1.  0.  0.  0.  0.  0.  0.  1.\n",
      "  0.  1.  1.  0.  0.  0.  0.  1.  0.  1.  0.  0.  0.  1.  1.  1.  0.  0.\n",
      "  0.  0.  0.  1.  1.  0.  0.  0.  1.  1.  1.  1.  1.  1.  0.  0.  0.  0.\n",
      "  0.  1.  1.  1.  1.  0.  1.]\n",
      "Decision tree testing prob: [ 0.27272727  0.01724138  0.94545455  0.27272727  0.32142857  0.81818182\n",
      "  0.01724138  0.94545455  0.27272727  0.8         0.94545455  0.01724138\n",
      "  0.01724138  0.32142857  0.27272727  0.27272727  0.32142857  0.94545455\n",
      "  0.01724138  0.94545455  0.94545455  0.01724138  0.5         0.01724138\n",
      "  0.01724138  0.8         0.27272727  0.94545455  0.01724138  0.01724138\n",
      "  0.32142857  0.94545455  0.94545455  0.8         0.01724138  0.01724138\n",
      "  0.27272727  0.01724138  0.01724138  0.8         0.94545455  0.01724138\n",
      "  0.27272727  0.27272727  0.94545455  0.94545455  0.94545455  0.8         0.8\n",
      "  0.94545455  0.01724138  0.27272727  0.01724138  0.32142857  0.01724138\n",
      "  0.94545455  0.94545455  0.8         0.8         0.27272727  0.94545455]\n",
      "Misclassified samples: 8\n",
      "Accuracy: 0.8689\n"
     ]
    }
   ],
   "source": [
    "from sklearn.tree import DecisionTreeClassifier\n",
    "\n",
    "#train tree model\n",
    "tree = DecisionTreeClassifier(criterion='gini',max_depth=3)\n",
    "tree.fit(X_train_std,y_train)\n",
    "\n",
    "#predict\n",
    "y_pred_decision = tree.predict(X_test_std)\n",
    "y_predprob_decision = tree.predict_proba(X_test_std)\n",
    "y_predprob_po_decision = y_predprob_decision[:,1]\n",
    "print('Decision tree testing result:',y_pred_decision)\n",
    "print('Decision tree testing prob:', y_predprob_po_decision)\n",
    "print('Misclassified samples: %d' % (y_test != y_pred_decision).sum())\n",
    "print('Accuracy: %.4f' % accuracy_score(y_test, y_pred_decision))"
   ]
  },
  {
   "cell_type": "code",
   "execution_count": 19,
   "metadata": {
    "scrolled": true
   },
   "outputs": [
    {
     "data": {
      "image/svg+xml": [
       "<?xml version=\"1.0\" encoding=\"UTF-8\" standalone=\"no\"?>\r\n",
       "<!DOCTYPE svg PUBLIC \"-//W3C//DTD SVG 1.1//EN\"\r\n",
       " \"http://www.w3.org/Graphics/SVG/1.1/DTD/svg11.dtd\">\r\n",
       "<!-- Generated by graphviz version 2.38.0 (20140413.2041)\r\n",
       " -->\r\n",
       "<!-- Title: Tree Pages: 1 -->\r\n",
       "<svg width=\"1109pt\" height=\"433pt\"\r\n",
       " viewBox=\"0.00 0.00 1109.00 433.00\" xmlns=\"http://www.w3.org/2000/svg\" xmlns:xlink=\"http://www.w3.org/1999/xlink\">\r\n",
       "<g id=\"graph0\" class=\"graph\" transform=\"scale(1 1) rotate(0) translate(4 429)\">\r\n",
       "<title>Tree</title>\r\n",
       "<polygon fill=\"white\" stroke=\"none\" points=\"-4,4 -4,-429 1105,-429 1105,4 -4,4\"/>\r\n",
       "<!-- 0 -->\r\n",
       "<g id=\"node1\" class=\"node\"><title>0</title>\r\n",
       "<polygon fill=\"none\" stroke=\"black\" points=\"611.5,-425 489.5,-425 489.5,-342 611.5,-342 611.5,-425\"/>\r\n",
       "<text text-anchor=\"middle\" x=\"550.5\" y=\"-409.8\" font-family=\"Times New Roman,serif\" font-size=\"14.00\">cp_4.0 &lt;= 0.075</text>\r\n",
       "<text text-anchor=\"middle\" x=\"550.5\" y=\"-394.8\" font-family=\"Times New Roman,serif\" font-size=\"14.00\">gini = 0.493</text>\r\n",
       "<text text-anchor=\"middle\" x=\"550.5\" y=\"-379.8\" font-family=\"Times New Roman,serif\" font-size=\"14.00\">samples = 242</text>\r\n",
       "<text text-anchor=\"middle\" x=\"550.5\" y=\"-364.8\" font-family=\"Times New Roman,serif\" font-size=\"14.00\">value = [135, 107]</text>\r\n",
       "<text text-anchor=\"middle\" x=\"550.5\" y=\"-349.8\" font-family=\"Times New Roman,serif\" font-size=\"14.00\">class = not disease</text>\r\n",
       "</g>\r\n",
       "<!-- 1 -->\r\n",
       "<g id=\"node2\" class=\"node\"><title>1</title>\r\n",
       "<polygon fill=\"none\" stroke=\"black\" points=\"471.5,-306 349.5,-306 349.5,-223 471.5,-223 471.5,-306\"/>\r\n",
       "<text text-anchor=\"middle\" x=\"410.5\" y=\"-290.8\" font-family=\"Times New Roman,serif\" font-size=\"14.00\">thal_3.0 &lt;= &#45;0.125</text>\r\n",
       "<text text-anchor=\"middle\" x=\"410.5\" y=\"-275.8\" font-family=\"Times New Roman,serif\" font-size=\"14.00\">gini = 0.338</text>\r\n",
       "<text text-anchor=\"middle\" x=\"410.5\" y=\"-260.8\" font-family=\"Times New Roman,serif\" font-size=\"14.00\">samples = 130</text>\r\n",
       "<text text-anchor=\"middle\" x=\"410.5\" y=\"-245.8\" font-family=\"Times New Roman,serif\" font-size=\"14.00\">value = [102, 28]</text>\r\n",
       "<text text-anchor=\"middle\" x=\"410.5\" y=\"-230.8\" font-family=\"Times New Roman,serif\" font-size=\"14.00\">class = not disease</text>\r\n",
       "</g>\r\n",
       "<!-- 0&#45;&gt;1 -->\r\n",
       "<g id=\"edge1\" class=\"edge\"><title>0&#45;&gt;1</title>\r\n",
       "<path fill=\"none\" stroke=\"black\" d=\"M501.928,-341.907C490.634,-332.469 478.517,-322.343 466.918,-312.649\"/>\r\n",
       "<polygon fill=\"black\" stroke=\"black\" points=\"468.904,-309.748 458.986,-306.021 464.415,-315.119 468.904,-309.748\"/>\r\n",
       "<text text-anchor=\"middle\" x=\"461.215\" y=\"-327.221\" font-family=\"Times New Roman,serif\" font-size=\"14.00\">True</text>\r\n",
       "</g>\r\n",
       "<!-- 8 -->\r\n",
       "<g id=\"node9\" class=\"node\"><title>8</title>\r\n",
       "<polygon fill=\"none\" stroke=\"black\" points=\"751,-306 630,-306 630,-223 751,-223 751,-306\"/>\r\n",
       "<text text-anchor=\"middle\" x=\"690.5\" y=\"-290.8\" font-family=\"Times New Roman,serif\" font-size=\"14.00\">ca_0.0 &lt;= &#45;0.194</text>\r\n",
       "<text text-anchor=\"middle\" x=\"690.5\" y=\"-275.8\" font-family=\"Times New Roman,serif\" font-size=\"14.00\">gini = 0.416</text>\r\n",
       "<text text-anchor=\"middle\" x=\"690.5\" y=\"-260.8\" font-family=\"Times New Roman,serif\" font-size=\"14.00\">samples = 112</text>\r\n",
       "<text text-anchor=\"middle\" x=\"690.5\" y=\"-245.8\" font-family=\"Times New Roman,serif\" font-size=\"14.00\">value = [33, 79]</text>\r\n",
       "<text text-anchor=\"middle\" x=\"690.5\" y=\"-230.8\" font-family=\"Times New Roman,serif\" font-size=\"14.00\">class = get disease</text>\r\n",
       "</g>\r\n",
       "<!-- 0&#45;&gt;8 -->\r\n",
       "<g id=\"edge8\" class=\"edge\"><title>0&#45;&gt;8</title>\r\n",
       "<path fill=\"none\" stroke=\"black\" d=\"M599.072,-341.907C610.366,-332.469 622.483,-322.343 634.082,-312.649\"/>\r\n",
       "<polygon fill=\"black\" stroke=\"black\" points=\"636.585,-315.119 642.014,-306.021 632.096,-309.748 636.585,-315.119\"/>\r\n",
       "<text text-anchor=\"middle\" x=\"639.785\" y=\"-327.221\" font-family=\"Times New Roman,serif\" font-size=\"14.00\">False</text>\r\n",
       "</g>\r\n",
       "<!-- 2 -->\r\n",
       "<g id=\"node3\" class=\"node\"><title>2</title>\r\n",
       "<polygon fill=\"none\" stroke=\"black\" points=\"261.5,-187 139.5,-187 139.5,-104 261.5,-104 261.5,-187\"/>\r\n",
       "<text text-anchor=\"middle\" x=\"200.5\" y=\"-171.8\" font-family=\"Times New Roman,serif\" font-size=\"14.00\">thalach &lt;= &#45;0.256</text>\r\n",
       "<text text-anchor=\"middle\" x=\"200.5\" y=\"-156.8\" font-family=\"Times New Roman,serif\" font-size=\"14.00\">gini = 0.497</text>\r\n",
       "<text text-anchor=\"middle\" x=\"200.5\" y=\"-141.8\" font-family=\"Times New Roman,serif\" font-size=\"14.00\">samples = 39</text>\r\n",
       "<text text-anchor=\"middle\" x=\"200.5\" y=\"-126.8\" font-family=\"Times New Roman,serif\" font-size=\"14.00\">value = [21, 18]</text>\r\n",
       "<text text-anchor=\"middle\" x=\"200.5\" y=\"-111.8\" font-family=\"Times New Roman,serif\" font-size=\"14.00\">class = not disease</text>\r\n",
       "</g>\r\n",
       "<!-- 1&#45;&gt;2 -->\r\n",
       "<g id=\"edge2\" class=\"edge\"><title>1&#45;&gt;2</title>\r\n",
       "<path fill=\"none\" stroke=\"black\" d=\"M349.477,-229.502C324.779,-215.741 296.117,-199.773 270.57,-185.539\"/>\r\n",
       "<polygon fill=\"black\" stroke=\"black\" points=\"272.114,-182.393 261.675,-180.583 268.707,-188.508 272.114,-182.393\"/>\r\n",
       "</g>\r\n",
       "<!-- 5 -->\r\n",
       "<g id=\"node6\" class=\"node\"><title>5</title>\r\n",
       "<polygon fill=\"none\" stroke=\"black\" points=\"471.5,-187 349.5,-187 349.5,-104 471.5,-104 471.5,-187\"/>\r\n",
       "<text text-anchor=\"middle\" x=\"410.5\" y=\"-171.8\" font-family=\"Times New Roman,serif\" font-size=\"14.00\">age &lt;= 0.164</text>\r\n",
       "<text text-anchor=\"middle\" x=\"410.5\" y=\"-156.8\" font-family=\"Times New Roman,serif\" font-size=\"14.00\">gini = 0.196</text>\r\n",
       "<text text-anchor=\"middle\" x=\"410.5\" y=\"-141.8\" font-family=\"Times New Roman,serif\" font-size=\"14.00\">samples = 91</text>\r\n",
       "<text text-anchor=\"middle\" x=\"410.5\" y=\"-126.8\" font-family=\"Times New Roman,serif\" font-size=\"14.00\">value = [81, 10]</text>\r\n",
       "<text text-anchor=\"middle\" x=\"410.5\" y=\"-111.8\" font-family=\"Times New Roman,serif\" font-size=\"14.00\">class = not disease</text>\r\n",
       "</g>\r\n",
       "<!-- 1&#45;&gt;5 -->\r\n",
       "<g id=\"edge5\" class=\"edge\"><title>1&#45;&gt;5</title>\r\n",
       "<path fill=\"none\" stroke=\"black\" d=\"M410.5,-222.907C410.5,-214.649 410.5,-205.864 410.5,-197.302\"/>\r\n",
       "<polygon fill=\"black\" stroke=\"black\" points=\"414,-197.021 410.5,-187.021 407,-197.021 414,-197.021\"/>\r\n",
       "</g>\r\n",
       "<!-- 3 -->\r\n",
       "<g id=\"node4\" class=\"node\"><title>3</title>\r\n",
       "<polygon fill=\"none\" stroke=\"black\" points=\"121,-68 0,-68 0,-0 121,-0 121,-68\"/>\r\n",
       "<text text-anchor=\"middle\" x=\"60.5\" y=\"-52.8\" font-family=\"Times New Roman,serif\" font-size=\"14.00\">gini = 0.298</text>\r\n",
       "<text text-anchor=\"middle\" x=\"60.5\" y=\"-37.8\" font-family=\"Times New Roman,serif\" font-size=\"14.00\">samples = 11</text>\r\n",
       "<text text-anchor=\"middle\" x=\"60.5\" y=\"-22.8\" font-family=\"Times New Roman,serif\" font-size=\"14.00\">value = [2, 9]</text>\r\n",
       "<text text-anchor=\"middle\" x=\"60.5\" y=\"-7.8\" font-family=\"Times New Roman,serif\" font-size=\"14.00\">class = get disease</text>\r\n",
       "</g>\r\n",
       "<!-- 2&#45;&gt;3 -->\r\n",
       "<g id=\"edge3\" class=\"edge\"><title>2&#45;&gt;3</title>\r\n",
       "<path fill=\"none\" stroke=\"black\" d=\"M148.369,-103.726C136.241,-94.2406 123.347,-84.1551 111.278,-74.7159\"/>\r\n",
       "<polygon fill=\"black\" stroke=\"black\" points=\"113.108,-71.7035 103.075,-68.2996 108.795,-77.2173 113.108,-71.7035\"/>\r\n",
       "</g>\r\n",
       "<!-- 4 -->\r\n",
       "<g id=\"node5\" class=\"node\"><title>4</title>\r\n",
       "<polygon fill=\"none\" stroke=\"black\" points=\"261.5,-68 139.5,-68 139.5,-0 261.5,-0 261.5,-68\"/>\r\n",
       "<text text-anchor=\"middle\" x=\"200.5\" y=\"-52.8\" font-family=\"Times New Roman,serif\" font-size=\"14.00\">gini = 0.436</text>\r\n",
       "<text text-anchor=\"middle\" x=\"200.5\" y=\"-37.8\" font-family=\"Times New Roman,serif\" font-size=\"14.00\">samples = 28</text>\r\n",
       "<text text-anchor=\"middle\" x=\"200.5\" y=\"-22.8\" font-family=\"Times New Roman,serif\" font-size=\"14.00\">value = [19, 9]</text>\r\n",
       "<text text-anchor=\"middle\" x=\"200.5\" y=\"-7.8\" font-family=\"Times New Roman,serif\" font-size=\"14.00\">class = not disease</text>\r\n",
       "</g>\r\n",
       "<!-- 2&#45;&gt;4 -->\r\n",
       "<g id=\"edge4\" class=\"edge\"><title>2&#45;&gt;4</title>\r\n",
       "<path fill=\"none\" stroke=\"black\" d=\"M200.5,-103.726C200.5,-95.5175 200.5,-86.8595 200.5,-78.56\"/>\r\n",
       "<polygon fill=\"black\" stroke=\"black\" points=\"204,-78.2996 200.5,-68.2996 197,-78.2996 204,-78.2996\"/>\r\n",
       "</g>\r\n",
       "<!-- 6 -->\r\n",
       "<g id=\"node7\" class=\"node\"><title>6</title>\r\n",
       "<polygon fill=\"none\" stroke=\"black\" points=\"401.5,-68 279.5,-68 279.5,-0 401.5,-0 401.5,-68\"/>\r\n",
       "<text text-anchor=\"middle\" x=\"340.5\" y=\"-52.8\" font-family=\"Times New Roman,serif\" font-size=\"14.00\">gini = 0.034</text>\r\n",
       "<text text-anchor=\"middle\" x=\"340.5\" y=\"-37.8\" font-family=\"Times New Roman,serif\" font-size=\"14.00\">samples = 58</text>\r\n",
       "<text text-anchor=\"middle\" x=\"340.5\" y=\"-22.8\" font-family=\"Times New Roman,serif\" font-size=\"14.00\">value = [57, 1]</text>\r\n",
       "<text text-anchor=\"middle\" x=\"340.5\" y=\"-7.8\" font-family=\"Times New Roman,serif\" font-size=\"14.00\">class = not disease</text>\r\n",
       "</g>\r\n",
       "<!-- 5&#45;&gt;6 -->\r\n",
       "<g id=\"edge6\" class=\"edge\"><title>5&#45;&gt;6</title>\r\n",
       "<path fill=\"none\" stroke=\"black\" d=\"M384.435,-103.726C378.837,-94.9703 372.913,-85.7032 367.289,-76.9051\"/>\r\n",
       "<polygon fill=\"black\" stroke=\"black\" points=\"370.123,-74.8399 361.787,-68.2996 364.225,-78.6103 370.123,-74.8399\"/>\r\n",
       "</g>\r\n",
       "<!-- 7 -->\r\n",
       "<g id=\"node8\" class=\"node\"><title>7</title>\r\n",
       "<polygon fill=\"none\" stroke=\"black\" points=\"541.5,-68 419.5,-68 419.5,-0 541.5,-0 541.5,-68\"/>\r\n",
       "<text text-anchor=\"middle\" x=\"480.5\" y=\"-52.8\" font-family=\"Times New Roman,serif\" font-size=\"14.00\">gini = 0.397</text>\r\n",
       "<text text-anchor=\"middle\" x=\"480.5\" y=\"-37.8\" font-family=\"Times New Roman,serif\" font-size=\"14.00\">samples = 33</text>\r\n",
       "<text text-anchor=\"middle\" x=\"480.5\" y=\"-22.8\" font-family=\"Times New Roman,serif\" font-size=\"14.00\">value = [24, 9]</text>\r\n",
       "<text text-anchor=\"middle\" x=\"480.5\" y=\"-7.8\" font-family=\"Times New Roman,serif\" font-size=\"14.00\">class = not disease</text>\r\n",
       "</g>\r\n",
       "<!-- 5&#45;&gt;7 -->\r\n",
       "<g id=\"edge7\" class=\"edge\"><title>5&#45;&gt;7</title>\r\n",
       "<path fill=\"none\" stroke=\"black\" d=\"M436.565,-103.726C442.163,-94.9703 448.087,-85.7032 453.711,-76.9051\"/>\r\n",
       "<polygon fill=\"black\" stroke=\"black\" points=\"456.775,-78.6103 459.213,-68.2996 450.877,-74.8399 456.775,-78.6103\"/>\r\n",
       "</g>\r\n",
       "<!-- 9 -->\r\n",
       "<g id=\"node10\" class=\"node\"><title>9</title>\r\n",
       "<polygon fill=\"none\" stroke=\"black\" points=\"751,-187 630,-187 630,-104 751,-104 751,-187\"/>\r\n",
       "<text text-anchor=\"middle\" x=\"690.5\" y=\"-171.8\" font-family=\"Times New Roman,serif\" font-size=\"14.00\">restbp &lt;= &#45;1.291</text>\r\n",
       "<text text-anchor=\"middle\" x=\"690.5\" y=\"-156.8\" font-family=\"Times New Roman,serif\" font-size=\"14.00\">gini = 0.155</text>\r\n",
       "<text text-anchor=\"middle\" x=\"690.5\" y=\"-141.8\" font-family=\"Times New Roman,serif\" font-size=\"14.00\">samples = 59</text>\r\n",
       "<text text-anchor=\"middle\" x=\"690.5\" y=\"-126.8\" font-family=\"Times New Roman,serif\" font-size=\"14.00\">value = [5, 54]</text>\r\n",
       "<text text-anchor=\"middle\" x=\"690.5\" y=\"-111.8\" font-family=\"Times New Roman,serif\" font-size=\"14.00\">class = get disease</text>\r\n",
       "</g>\r\n",
       "<!-- 8&#45;&gt;9 -->\r\n",
       "<g id=\"edge9\" class=\"edge\"><title>8&#45;&gt;9</title>\r\n",
       "<path fill=\"none\" stroke=\"black\" d=\"M690.5,-222.907C690.5,-214.649 690.5,-205.864 690.5,-197.302\"/>\r\n",
       "<polygon fill=\"black\" stroke=\"black\" points=\"694,-197.021 690.5,-187.021 687,-197.021 694,-197.021\"/>\r\n",
       "</g>\r\n",
       "<!-- 12 -->\r\n",
       "<g id=\"node13\" class=\"node\"><title>12</title>\r\n",
       "<polygon fill=\"none\" stroke=\"black\" points=\"961.5,-187 839.5,-187 839.5,-104 961.5,-104 961.5,-187\"/>\r\n",
       "<text text-anchor=\"middle\" x=\"900.5\" y=\"-171.8\" font-family=\"Times New Roman,serif\" font-size=\"14.00\">thal_7.0 &lt;= 0.265</text>\r\n",
       "<text text-anchor=\"middle\" x=\"900.5\" y=\"-156.8\" font-family=\"Times New Roman,serif\" font-size=\"14.00\">gini = 0.498</text>\r\n",
       "<text text-anchor=\"middle\" x=\"900.5\" y=\"-141.8\" font-family=\"Times New Roman,serif\" font-size=\"14.00\">samples = 53</text>\r\n",
       "<text text-anchor=\"middle\" x=\"900.5\" y=\"-126.8\" font-family=\"Times New Roman,serif\" font-size=\"14.00\">value = [28, 25]</text>\r\n",
       "<text text-anchor=\"middle\" x=\"900.5\" y=\"-111.8\" font-family=\"Times New Roman,serif\" font-size=\"14.00\">class = not disease</text>\r\n",
       "</g>\r\n",
       "<!-- 8&#45;&gt;12 -->\r\n",
       "<g id=\"edge12\" class=\"edge\"><title>8&#45;&gt;12</title>\r\n",
       "<path fill=\"none\" stroke=\"black\" d=\"M751.241,-229.659C775.947,-215.894 804.654,-199.9 830.254,-185.637\"/>\r\n",
       "<polygon fill=\"black\" stroke=\"black\" points=\"832.136,-188.595 839.168,-180.671 828.729,-182.48 832.136,-188.595\"/>\r\n",
       "</g>\r\n",
       "<!-- 10 -->\r\n",
       "<g id=\"node11\" class=\"node\"><title>10</title>\r\n",
       "<polygon fill=\"none\" stroke=\"black\" points=\"681.5,-68 559.5,-68 559.5,-0 681.5,-0 681.5,-68\"/>\r\n",
       "<text text-anchor=\"middle\" x=\"620.5\" y=\"-52.8\" font-family=\"Times New Roman,serif\" font-size=\"14.00\">gini = 0.5</text>\r\n",
       "<text text-anchor=\"middle\" x=\"620.5\" y=\"-37.8\" font-family=\"Times New Roman,serif\" font-size=\"14.00\">samples = 4</text>\r\n",
       "<text text-anchor=\"middle\" x=\"620.5\" y=\"-22.8\" font-family=\"Times New Roman,serif\" font-size=\"14.00\">value = [2, 2]</text>\r\n",
       "<text text-anchor=\"middle\" x=\"620.5\" y=\"-7.8\" font-family=\"Times New Roman,serif\" font-size=\"14.00\">class = not disease</text>\r\n",
       "</g>\r\n",
       "<!-- 9&#45;&gt;10 -->\r\n",
       "<g id=\"edge10\" class=\"edge\"><title>9&#45;&gt;10</title>\r\n",
       "<path fill=\"none\" stroke=\"black\" d=\"M664.435,-103.726C658.837,-94.9703 652.913,-85.7032 647.289,-76.9051\"/>\r\n",
       "<polygon fill=\"black\" stroke=\"black\" points=\"650.123,-74.8399 641.787,-68.2996 644.225,-78.6103 650.123,-74.8399\"/>\r\n",
       "</g>\r\n",
       "<!-- 11 -->\r\n",
       "<g id=\"node12\" class=\"node\"><title>11</title>\r\n",
       "<polygon fill=\"none\" stroke=\"black\" points=\"821,-68 700,-68 700,-0 821,-0 821,-68\"/>\r\n",
       "<text text-anchor=\"middle\" x=\"760.5\" y=\"-52.8\" font-family=\"Times New Roman,serif\" font-size=\"14.00\">gini = 0.103</text>\r\n",
       "<text text-anchor=\"middle\" x=\"760.5\" y=\"-37.8\" font-family=\"Times New Roman,serif\" font-size=\"14.00\">samples = 55</text>\r\n",
       "<text text-anchor=\"middle\" x=\"760.5\" y=\"-22.8\" font-family=\"Times New Roman,serif\" font-size=\"14.00\">value = [3, 52]</text>\r\n",
       "<text text-anchor=\"middle\" x=\"760.5\" y=\"-7.8\" font-family=\"Times New Roman,serif\" font-size=\"14.00\">class = get disease</text>\r\n",
       "</g>\r\n",
       "<!-- 9&#45;&gt;11 -->\r\n",
       "<g id=\"edge11\" class=\"edge\"><title>9&#45;&gt;11</title>\r\n",
       "<path fill=\"none\" stroke=\"black\" d=\"M716.565,-103.726C722.163,-94.9703 728.087,-85.7032 733.711,-76.9051\"/>\r\n",
       "<polygon fill=\"black\" stroke=\"black\" points=\"736.775,-78.6103 739.213,-68.2996 730.877,-74.8399 736.775,-78.6103\"/>\r\n",
       "</g>\r\n",
       "<!-- 13 -->\r\n",
       "<g id=\"node14\" class=\"node\"><title>13</title>\r\n",
       "<polygon fill=\"none\" stroke=\"black\" points=\"961.5,-68 839.5,-68 839.5,-0 961.5,-0 961.5,-68\"/>\r\n",
       "<text text-anchor=\"middle\" x=\"900.5\" y=\"-52.8\" font-family=\"Times New Roman,serif\" font-size=\"14.00\">gini = 0.397</text>\r\n",
       "<text text-anchor=\"middle\" x=\"900.5\" y=\"-37.8\" font-family=\"Times New Roman,serif\" font-size=\"14.00\">samples = 33</text>\r\n",
       "<text text-anchor=\"middle\" x=\"900.5\" y=\"-22.8\" font-family=\"Times New Roman,serif\" font-size=\"14.00\">value = [24, 9]</text>\r\n",
       "<text text-anchor=\"middle\" x=\"900.5\" y=\"-7.8\" font-family=\"Times New Roman,serif\" font-size=\"14.00\">class = not disease</text>\r\n",
       "</g>\r\n",
       "<!-- 12&#45;&gt;13 -->\r\n",
       "<g id=\"edge13\" class=\"edge\"><title>12&#45;&gt;13</title>\r\n",
       "<path fill=\"none\" stroke=\"black\" d=\"M900.5,-103.726C900.5,-95.5175 900.5,-86.8595 900.5,-78.56\"/>\r\n",
       "<polygon fill=\"black\" stroke=\"black\" points=\"904,-78.2996 900.5,-68.2996 897,-78.2996 904,-78.2996\"/>\r\n",
       "</g>\r\n",
       "<!-- 14 -->\r\n",
       "<g id=\"node15\" class=\"node\"><title>14</title>\r\n",
       "<polygon fill=\"none\" stroke=\"black\" points=\"1101,-68 980,-68 980,-0 1101,-0 1101,-68\"/>\r\n",
       "<text text-anchor=\"middle\" x=\"1040.5\" y=\"-52.8\" font-family=\"Times New Roman,serif\" font-size=\"14.00\">gini = 0.32</text>\r\n",
       "<text text-anchor=\"middle\" x=\"1040.5\" y=\"-37.8\" font-family=\"Times New Roman,serif\" font-size=\"14.00\">samples = 20</text>\r\n",
       "<text text-anchor=\"middle\" x=\"1040.5\" y=\"-22.8\" font-family=\"Times New Roman,serif\" font-size=\"14.00\">value = [4, 16]</text>\r\n",
       "<text text-anchor=\"middle\" x=\"1040.5\" y=\"-7.8\" font-family=\"Times New Roman,serif\" font-size=\"14.00\">class = get disease</text>\r\n",
       "</g>\r\n",
       "<!-- 12&#45;&gt;14 -->\r\n",
       "<g id=\"edge14\" class=\"edge\"><title>12&#45;&gt;14</title>\r\n",
       "<path fill=\"none\" stroke=\"black\" d=\"M952.631,-103.726C964.759,-94.2406 977.653,-84.1551 989.722,-74.7159\"/>\r\n",
       "<polygon fill=\"black\" stroke=\"black\" points=\"992.205,-77.2173 997.925,-68.2996 987.892,-71.7035 992.205,-77.2173\"/>\r\n",
       "</g>\r\n",
       "</g>\r\n",
       "</svg>\r\n"
      ],
      "text/plain": [
       "<graphviz.files.Source at 0x18cdf4bc2b0>"
      ]
     },
     "execution_count": 19,
     "metadata": {},
     "output_type": "execute_result"
    }
   ],
   "source": [
    "#plot tree\n",
    "from sklearn.tree import export_graphviz\n",
    "import graphviz \n",
    "dot_data = export_graphviz(tree, out_file=None,feature_names=features, class_names=['not disease','get disease'])\n",
    "graph = graphviz.Source(dot_data,format='png') \n",
    "graph"
   ]
  },
  {
   "cell_type": "markdown",
   "metadata": {},
   "source": [
    "<center style=\"color:blue;font-size:30px;font-family:Microsoft JhengHei\"> 跟著做5開頭 </center>"
   ]
  },
  {
   "cell_type": "markdown",
   "metadata": {},
   "source": [
    "## linear SVM"
   ]
  },
  {
   "cell_type": "code",
   "execution_count": 20,
   "metadata": {},
   "outputs": [
    {
     "name": "stdout",
     "output_type": "stream",
     "text": [
      "Linear SVM testing result: [ 0.  0.  1.  0.  1.  1.  0.  1.  0.  1.  1.  0.  0.  0.  0.  0.  0.  1.\n",
      "  0.  1.  1.  0.  1.  0.  0.  1.  0.  1.  0.  0.  1.  1.  1.  1.  0.  0.\n",
      "  0.  0.  0.  1.  1.  0.  0.  0.  1.  1.  1.  0.  0.  1.  0.  0.  0.  0.\n",
      "  0.  1.  1.  1.  1.  0.  1.]\n",
      "Linear SVM testing prob: [ 0.33643232  0.20299603  0.74619323  0.22145587  0.57215262  0.4811319\n",
      "  0.05226558  0.94381689  0.43418857  0.5         0.95356092  0.0526699\n",
      "  0.12062667  0.22884345  0.26466975  0.04397174  0.19402195  0.90560429\n",
      "  0.046068    0.85749579  0.96359181  0.30180971  0.54195588  0.09826657\n",
      "  0.04780049  0.80578119  0.35617279  0.90339885  0.05757535  0.38224424\n",
      "  0.59408883  0.94941852  0.94031225  0.86965441  0.09159172  0.05412484\n",
      "  0.02743192  0.04128715  0.11733786  0.63384422  0.78365069  0.03196725\n",
      "  0.21407066  0.09219683  0.89378468  0.74370653  0.98091655  0.308097\n",
      "  0.43005988  0.87834566  0.13945887  0.18411004  0.17928492  0.2904379\n",
      "  0.05900236  0.85808267  0.90947288  0.54416563  0.84880056  0.19153184\n",
      "  0.91703523]\n",
      "Misclassified samples: 5\n",
      "Accuracy: 0.9180\n"
     ]
    }
   ],
   "source": [
    "from sklearn.svm import SVC\n",
    "\n",
    "#train model\n",
    "svm_linear = SVC(kernel='linear', random_state=0, probability=True) \n",
    "svm_linear.fit(X_train_std, y_train) # 餵入training data，並訓練出分類器'svm_linear'\n",
    "\n",
    "#predict\n",
    "y_pred_linear = svm_linear.predict(X_test_std) #testing data餵入分類器'svm_linear'，得到每筆的預測結果'y_pred'\n",
    "y_predprob_linear = svm_linear.predict_proba(X_test_std)\n",
    "y_predprob_po_linear =  y_predprob_linear[:,1]\n",
    "print('Linear SVM testing result:',y_pred_linear)\n",
    "print('Linear SVM testing prob:', y_predprob_po_linear)\n",
    "print('Misclassified samples: %d' % (y_test != y_pred_linear).sum()) \n",
    "print('Accuracy: %.4f' % accuracy_score(y_test, y_pred_linear)) #評估正確性"
   ]
  },
  {
   "cell_type": "markdown",
   "metadata": {},
   "source": [
    "\n",
    "<center style=\"color:blue;font-size:20px;font-family:Microsoft JhengHei\"> 改改看使用未標準化的data 在rbf svm上 </center>"
   ]
  },
  {
   "cell_type": "markdown",
   "metadata": {},
   "source": [
    "## RBF SVM"
   ]
  },
  {
   "cell_type": "code",
   "execution_count": 21,
   "metadata": {},
   "outputs": [
    {
     "name": "stdout",
     "output_type": "stream",
     "text": [
      "RBF SVM testing result: [ 0.  0.  1.  0.  1.  1.  0.  1.  1.  1.  1.  0.  0.  0.  0.  0.  0.  1.\n",
      "  0.  1.  1.  0.  1.  0.  0.  1.  0.  1.  0.  1.  0.  1.  1.  1.  0.  0.\n",
      "  0.  0.  0.  1.  0.  0.  0.  0.  1.  1.  1.  0.  1.  1.  0.  0.  0.  0.\n",
      "  0.  1.  1.  1.  1.  0.  1.]\n",
      "RBF SVM testing prob: [ 0.36526356  0.30247409  0.79190158  0.21436885  0.70725494  0.58801869\n",
      "  0.05879919  0.86000055  0.58087718  0.73680522  0.78426519  0.04972589\n",
      "  0.09965566  0.20907662  0.18338525  0.0828613   0.21315719  0.8313637\n",
      "  0.05072921  0.86073846  0.96082035  0.5         0.69696785  0.07436616\n",
      "  0.05837508  0.78907235  0.24879851  0.90002252  0.06720932  0.5128605\n",
      "  0.43816168  0.91003455  0.82118914  0.74839674  0.10279977  0.0522691\n",
      "  0.10017534  0.0773205   0.11468053  0.52697725  0.44338094  0.06821409\n",
      "  0.17406376  0.14367324  0.88110914  0.89391232  0.72359722  0.40677135\n",
      "  0.51066198  0.9489134   0.1073099   0.08158992  0.13131421  0.46960354\n",
      "  0.06567461  0.83747845  0.91163484  0.88121789  0.79476925  0.14080668\n",
      "  0.93547562]\n",
      "Misclassified samples: 6\n",
      "Accuracy: 0.9016\n"
     ]
    }
   ],
   "source": [
    "from sklearn.svm import SVC\n",
    "#train rbf model\n",
    "svm_rbf = SVC(kernel='rbf' ,C=2 ,random_state=0, probability=True) \n",
    "svm_rbf.fit(X_train_std, y_train)\n",
    "\n",
    "#predict\n",
    "y_pred_rbf = svm_rbf.predict(X_test_std)\n",
    "y_predprob_rbf = svm_rbf.predict_proba(X_test_std)\n",
    "y_predprob_po_rbf =  y_predprob_rbf[:,1]\n",
    "print('RBF SVM testing result:',y_pred_rbf)\n",
    "print('RBF SVM testing prob:',y_predprob_po_rbf)\n",
    "print('Misclassified samples: %d' % (y_test != y_pred_rbf).sum())\n",
    "print('Accuracy: %.4f' % accuracy_score(y_test, y_pred_rbf))\n"
   ]
  },
  {
   "cell_type": "code",
   "execution_count": 22,
   "metadata": {
    "scrolled": true
   },
   "outputs": [
    {
     "data": {
      "text/plain": [
       "\"\\n# 跟著做練習解答:使用未標準化資料train rbf svm\\nfrom sklearn.svm import SVC\\n#train rbf model\\nsvm_rbf = SVC(kernel='rbf', C=2, random_state=0, probability=True) \\nsvm_rbf.fit(X_train, y_train)\\n\\n#predict\\ny_pred_unstd = svm_rbf.predict(X_test)\\ny_predprob_unstd = svm_rbf.predict_proba(X_test)\\ny_predprob_po_unstd =  y_predprob_unstd[:,1]\\nprint('RBF SVM testing result:',y_pred_unstd)\\nprint('RBF SVM testing prob:',y_predprob_po_unstd)\\nprint('Misclassified samples: %d' % (y_test != y_pred_unstd).sum())\\nprint('Accuracy: %.4f' % accuracy_score(y_test, y_pred_unstd))\\n\""
      ]
     },
     "execution_count": 22,
     "metadata": {},
     "output_type": "execute_result"
    }
   ],
   "source": [
    "'''\n",
    "# 跟著做練習解答:使用未標準化資料train rbf svm\n",
    "from sklearn.svm import SVC\n",
    "#train rbf model\n",
    "svm_rbf = SVC(kernel='rbf', C=2, random_state=0, probability=True) \n",
    "svm_rbf.fit(X_train, y_train)\n",
    "\n",
    "#predict\n",
    "y_pred_unstd = svm_rbf.predict(X_test)\n",
    "y_predprob_unstd = svm_rbf.predict_proba(X_test)\n",
    "y_predprob_po_unstd =  y_predprob_unstd[:,1]\n",
    "print('RBF SVM testing result:',y_pred_unstd)\n",
    "print('RBF SVM testing prob:',y_predprob_po_unstd)\n",
    "print('Misclassified samples: %d' % (y_test != y_pred_unstd).sum())\n",
    "print('Accuracy: %.4f' % accuracy_score(y_test, y_pred_unstd))\n",
    "'''"
   ]
  },
  {
   "cell_type": "code",
   "execution_count": 23,
   "metadata": {},
   "outputs": [
    {
     "data": {
      "text/plain": [
       "\"\\nfrom sklearn.metrics import roc_curve, auc\\n# 資料標準化後的 svm model\\nfpr, tpr, thres = roc_curve(y_test, y_predprob_po_rbf)\\nroc_auc = auc(fpr, tpr)\\n# 資料標準化前的 svm model\\nfpr_unstd, tpr_unstd, thres_unstd = roc_curve(y_test, y_predprob_po_unstd)\\nroc_auc_unstd = auc(fpr_unstd, tpr_unstd)\\n\\nplt.title('Receiver Operating Characteristic(ROC)')\\nplt.plot(fpr, tpr, 'b', label='standardize = %0.2f'% roc_auc)\\nplt.plot(fpr_unstd, tpr_unstd, 'g', label='un-standardize = %0.2f'% roc_auc_unstd)\\nplt.legend(loc='lower right')\\nplt.plot([0, 1], [0, 1], color='r', linestyle='--')  \\nplt.xlim([0.0, 1.0])  \\nplt.ylim([0.0, 1.05])  \\nplt.xlabel('False Positive Rate')  \\nplt.ylabel('True Positive Rate')  \\nplt.show()\\n\""
      ]
     },
     "execution_count": 23,
     "metadata": {},
     "output_type": "execute_result"
    }
   ],
   "source": [
    "'''\n",
    "from sklearn.metrics import roc_curve, auc\n",
    "# 資料標準化後的 svm model\n",
    "fpr, tpr, thres = roc_curve(y_test, y_predprob_po_rbf)\n",
    "roc_auc = auc(fpr, tpr)\n",
    "# 資料標準化前的 svm model\n",
    "fpr_unstd, tpr_unstd, thres_unstd = roc_curve(y_test, y_predprob_po_unstd)\n",
    "roc_auc_unstd = auc(fpr_unstd, tpr_unstd)\n",
    "\n",
    "plt.title('Receiver Operating Characteristic(ROC)')\n",
    "plt.plot(fpr, tpr, 'b', label='standardize = %0.2f'% roc_auc)\n",
    "plt.plot(fpr_unstd, tpr_unstd, 'g', label='un-standardize = %0.2f'% roc_auc_unstd)\n",
    "plt.legend(loc='lower right')\n",
    "plt.plot([0, 1], [0, 1], color='r', linestyle='--')  \n",
    "plt.xlim([0.0, 1.0])  \n",
    "plt.ylim([0.0, 1.05])  \n",
    "plt.xlabel('False Positive Rate')  \n",
    "plt.ylabel('True Positive Rate')  \n",
    "plt.show()\n",
    "'''"
   ]
  },
  {
   "cell_type": "markdown",
   "metadata": {},
   "source": [
    "<center style=\"color:blue;font-size:30px;font-family:Microsoft JhengHei\"> 跟著做6開頭 </center>\n"
   ]
  },
  {
   "cell_type": "markdown",
   "metadata": {},
   "source": [
    "# <center> Cross Validation </center>"
   ]
  },
  {
   "cell_type": "markdown",
   "metadata": {},
   "source": [
    "### linear SVM"
   ]
  },
  {
   "cell_type": "code",
   "execution_count": 24,
   "metadata": {},
   "outputs": [
    {
     "name": "stdout",
     "output_type": "stream",
     "text": [
      "testing result: [ 0.  0.  1.  0.  1.  0.  0.  1.  1.  1.  1.  0.  0.  0.  0.  0.  0.  1.\n",
      "  0.  1.  1.  0.  1.  0.  0.  1.  0.  1.  0.  0.  1.  1.  1.  1.  0.  0.\n",
      "  0.  0.  0.  1.  1.  0.  0.  0.  1.  1.  1.  0.  0.  1.  0.  0.  0.  0.\n",
      "  0.  1.  1.  1.  1.  0.  1.]\n",
      "Misclassified samples: 5\n",
      "Accuracy: 0.9180\n",
      "\n",
      "==============================cross validation===========================================\n",
      "Cross Validation every accuracy:  [ 0.85245902  0.80327869  0.81967213  0.7704918   0.91525424]\n",
      "(Cross Validation)Accuracy: 0.8322 (+/- 0.0984)\n"
     ]
    }
   ],
   "source": [
    "from sklearn.model_selection import train_test_split\n",
    "from sklearn.preprocessing import StandardScaler\n",
    "from sklearn.svm import SVC\n",
    "#train model\n",
    "svm_linear = SVC(kernel='linear', C=2) \n",
    "svm_linear.fit(X_train_std, y_train) \n",
    "\n",
    "#predict\n",
    "y_pred = svm_linear.predict(X_test_std) \n",
    "print('testing result:',y_pred)\n",
    "print('Misclassified samples: %d' % (y_test != y_pred).sum()) \n",
    "print('Accuracy: %.4f' % accuracy_score(y_test, y_pred))\n",
    "\n",
    "print('\\n==============================cross validation===========================================')\n",
    "from sklearn.model_selection import cross_val_score\n",
    "X_std = np.concatenate((X_train_std, X_test_std), axis=0)\n",
    "y = np.concatenate((y_train, y_test), axis=0)\n",
    "\n",
    "svm_linear = SVC(kernel='linear', C=2)\n",
    "#cv:切割為cv份\n",
    "scores = cross_val_score(svm_linear, X_std, y, cv=5)\n",
    "print(\"Cross Validation every accuracy: \",scores)\n",
    "print(\"(Cross Validation)Accuracy: %0.4f (+/- %0.4f)\" % (scores.mean(), scores.std()*2))"
   ]
  },
  {
   "cell_type": "markdown",
   "metadata": {},
   "source": [
    "<center style=\"color:blue;font-size:30px;font-family:Microsoft JhengHei\"> Exercise</center>"
   ]
  },
  {
   "cell_type": "markdown",
   "metadata": {},
   "source": [
    "# Exersice1: 10 fold cross validation on decision tree"
   ]
  },
  {
   "cell_type": "code",
   "execution_count": 25,
   "metadata": {},
   "outputs": [
    {
     "ename": "SyntaxError",
     "evalue": "invalid syntax (<ipython-input-25-0fd803a605f5>, line 19)",
     "output_type": "error",
     "traceback": [
      "\u001b[1;36m  File \u001b[1;32m\"<ipython-input-25-0fd803a605f5>\"\u001b[1;36m, line \u001b[1;32m19\u001b[0m\n\u001b[1;33m    tree_cross = #here need fill in\u001b[0m\n\u001b[1;37m                                   ^\u001b[0m\n\u001b[1;31mSyntaxError\u001b[0m\u001b[1;31m:\u001b[0m invalid syntax\n"
     ]
    }
   ],
   "source": [
    "from sklearn.tree import DecisionTreeClassifier\n",
    "#train tree model\n",
    "tree = DecisionTreeClassifier(criterion='gini',max_depth=3)\n",
    "tree.fit(X_train_std,y_train)\n",
    "#predict\n",
    "y_pred = tree.predict(X_test_std)\n",
    "print('Decision tree testing result:',y_pred)\n",
    "print('Misclassified samples: %d' % (y_test != y_pred).sum())\n",
    "print('Accuracy: %.4f' % accuracy_score(y_test, y_pred))\n",
    "\n",
    "print('\\n==============================cross validation===========================================')\n",
    "from sklearn.model_selection import cross_val_score\n",
    "X_std = np.concatenate((X_train_std, X_test_std), axis=0)\n",
    "y = np.concatenate((y_train, y_test), axis=0)\n",
    "\n",
    "'''\n",
    "decision tree model, \"#here need fill in\"\n",
    "'''\n",
    "tree_cross = #here need fill in\n",
    "#cv:切割為cv份\n",
    "scores = cross_val_score(tree_cross, X_std, y, cv = )#here need fill in\n",
    "print(\"Cross Validation every accuracy: \",scores)\n",
    "print(\"(Cross Validation)Accuracy: %0.4f (+/- %0.4f)\" % (scores.mean(), scores.std()*2))"
   ]
  },
  {
   "cell_type": "markdown",
   "metadata": {},
   "source": [
    "<center style=\"color:blue;font-size:30px;font-family:Microsoft JhengHei\"> 跟著做7開頭 </center>\n",
    "<br>\n",
    "<center style=\"color:blue;font-size:20px;font-family:Microsoft JhengHei\"> 改改看 n_neighbors~ </center>"
   ]
  },
  {
   "cell_type": "markdown",
   "metadata": {},
   "source": [
    "### KNN\n",
    "- [sklearn的KNN參數參考](http://scikit-learn.org/stable/modules/generated/sklearn.neighbors.KNeighborsClassifier.html)\n",
    "```python\n",
    "# n_neighbors : Number of neighbors to use by default for k_neighbors queries.\n",
    "# p : Power parameter for the Minkowski metric. When p = 1, this is equivalent to using manhattan_distance (l1), and euclidean_distance (l2) for p = 2. For arbitrary p, minkowski_distance (l_p) is used.\n",
    "# n_jobs : The number of parallel jobs to run for neighbors search\n",
    "```"
   ]
  },
  {
   "cell_type": "code",
   "execution_count": 26,
   "metadata": {},
   "outputs": [
    {
     "name": "stdout",
     "output_type": "stream",
     "text": [
      "Misclassified sample: 12\n",
      "Accuracy: 0.8033\n"
     ]
    }
   ],
   "source": [
    "from sklearn.neighbors import KNeighborsClassifier\n",
    "knn = KNeighborsClassifier(n_neighbors = 5, p = 2)\n",
    "knn.fit(X_train_std,y_train)\n",
    "y_pred_knn = knn.predict(X_test_std)\n",
    "y_predprob_knn = knn.predict_proba(X_test_std)\n",
    "y_predprob_po_knn = y_predprob_knn[:,1]\n",
    "print(\"Misclassified sample: %d\" % (y_test != y_pred_knn).sum())\n",
    "print('Accuracy: %.4f' % accuracy_score(y_test, y_pred_knn))"
   ]
  },
  {
   "cell_type": "markdown",
   "metadata": {},
   "source": [
    "<center style=\"color:blue;font-size:30px;font-family:Microsoft JhengHei\"> 跟著做8開頭 </center>\n",
    "<br>\n",
    "<center style=\"color:blue;font-size:20px;font-family:Microsoft JhengHei\"> 改改看 n_estimators~ </center>"
   ]
  },
  {
   "cell_type": "markdown",
   "metadata": {},
   "source": [
    "## RandomForest\n",
    "- [sklearn的RandomForest參數參考](http://scikit-learn.org/stable/modules/generated/sklearn.ensemble.RandomForestClassifier.html\n",
    ")\n",
    "```python\n",
    "# criterion : impurity function\n",
    "# n_estimators :  number of decision trees\n",
    "# random_state : seed used by the random number generator\n",
    "# n_jobs : number of cores for parallelism\n",
    "```"
   ]
  },
  {
   "cell_type": "code",
   "execution_count": 27,
   "metadata": {},
   "outputs": [
    {
     "name": "stdout",
     "output_type": "stream",
     "text": [
      "Misclassified sample: 7\n",
      "Accuracy: 0.8852\n"
     ]
    }
   ],
   "source": [
    "from sklearn.ensemble import RandomForestClassifier\n",
    "forest = RandomForestClassifier(criterion='gini',\n",
    "                                n_estimators=10,random_state=1)\n",
    "forest.fit(X_train_std,y_train)\n",
    "y_pred_forest = forest.predict(X_test_std)\n",
    "y_predprob_forest = forest.predict_proba(X_test_std)\n",
    "y_predprob_po_forest = y_predprob_forest[:,1] \n",
    "print(\"Misclassified sample: %d\" % (y_test != y_pred_forest).sum())\n",
    "print('Accuracy: %.4f' % accuracy_score(y_test, y_pred_forest))"
   ]
  },
  {
   "cell_type": "markdown",
   "metadata": {},
   "source": [
    "## Adaboost\n",
    "- [sklearn的Adaboost參數參考](http://scikit-learn.org/stable/modules/generated/sklearn.ensemble.AdaBoostClassifier.html\n",
    ")\n"
   ]
  },
  {
   "cell_type": "code",
   "execution_count": 28,
   "metadata": {},
   "outputs": [
    {
     "name": "stdout",
     "output_type": "stream",
     "text": [
      "Misclassified sample: 11\n",
      "Accuracy: 0.8197\n"
     ]
    }
   ],
   "source": [
    "from sklearn.ensemble import AdaBoostClassifier\n",
    "AdaBoost = AdaBoostClassifier(n_estimators=10,random_state=0)\n",
    "AdaBoost.fit(X_train_std,y_train)\n",
    "y_pred_ada = AdaBoost.predict(X_test_std)\n",
    "y_predprob_ada = AdaBoost.predict_proba(X_test_std)\n",
    "y_predprob_po_ada = y_predprob_ada[:,1]\n",
    "print(\"Misclassified sample: %d\" % (y_test != y_pred_ada).sum())\n",
    "print('Accuracy: %.4f' % accuracy_score(y_test, y_pred_ada))"
   ]
  },
  {
   "cell_type": "markdown",
   "metadata": {},
   "source": [
    "<center style=\"color:blue;font-size:30px;font-family:Microsoft JhengHei\"> 跟著做9開頭 </center>"
   ]
  },
  {
   "cell_type": "markdown",
   "metadata": {},
   "source": [
    "# <center> Feature Selection </center>"
   ]
  },
  {
   "cell_type": "markdown",
   "metadata": {},
   "source": [
    "### linear svm係數可作為feature重要性的指標"
   ]
  },
  {
   "cell_type": "code",
   "execution_count": 29,
   "metadata": {
    "scrolled": true
   },
   "outputs": [
    {
     "name": "stdout",
     "output_type": "stream",
     "text": [
      "Linear SVM testing result: [ 0.  0.  1.  0.  1.  0.  0.  1.  1.  1.  1.  0.  0.  0.  0.  0.  0.  1.\n",
      "  0.  1.  1.  0.  1.  0.  0.  1.  0.  1.  0.  0.  1.  1.  1.  1.  0.  0.\n",
      "  0.  0.  0.  1.  1.  0.  0.  0.  1.  1.  1.  0.  0.  1.  0.  0.  0.  0.\n",
      "  0.  1.  1.  1.  1.  0.  1.]\n",
      "Misclassified samples: 5\n",
      "Accuracy: 0.9180\n",
      "Cross Validation result scores [ 0.85245902  0.80327869  0.81967213  0.7704918   0.91525424]\n",
      "(Cross Validation) Accuracy: 0.8322 (+/- 0.0984)\n",
      "\n",
      "==============================feature selection============================================================\n",
      "Importance of features:\n",
      "   1) oldpeak                        0.480484\n",
      "   2) ca_0.0                         0.449613\n",
      "   3) cp_4.0                         0.396549\n",
      "   4) cp_1.0                         0.301686\n",
      "   5) cp_3.0                         0.300530\n",
      "   6) ca_2.0                         0.281088\n",
      "   7) restbp                         0.266998\n",
      "   8) thal_7.0                       0.244052\n",
      "   9) age                            0.204182\n",
      "  10) thal_3.0                       0.203957\n",
      "  11) sex_0.0                        0.198936\n",
      "  12) sex_1.0                        0.198936\n",
      "  13) ca_1.0                         0.197440\n",
      "  14) ca_3.0                         0.192284\n",
      "  15) slope_2.0                      0.171337\n",
      "  16) slope_1.0                      0.168907\n",
      "  17) exang_0.0                      0.167531\n",
      "  18) exang_1.0                      0.167531\n",
      "  19) chol                           0.114588\n",
      "  20) restecg_0.0                    0.103704\n",
      "After feature select\n",
      "Linear SVM testing result: [ 0.  0.  1.  0.  1.  1.  0.  1.  1.  0.  1.  0.  0.  0.  0.  0.  0.  1.\n",
      "  0.  1.  1.  0.  1.  0.  0.  1.  0.  1.  0.  0.  1.  1.  1.  1.  0.  0.\n",
      "  0.  0.  0.  1.  1.  0.  0.  0.  1.  1.  1.  0.  1.  1.  0.  0.  0.  0.\n",
      "  0.  1.  1.  1.  1.  0.  1.]\n",
      "Misclassified samples: 4\n",
      "(After feature select) Accuracy: 0.9344\n",
      "Cross Validation result scores [ 0.85245902  0.81967213  0.78688525  0.78688525  0.93220339]\n",
      "(After feature select)(Cross Validation) Accuracy: 0.8356 (+/- 0.1081)\n"
     ]
    }
   ],
   "source": [
    "from sklearn.svm import SVC\n",
    "from sklearn.model_selection import cross_val_score\n",
    "\n",
    "#train svmliner model\n",
    "svm_linear = SVC(kernel='linear',C=2, random_state=0) \n",
    "svm_linear.fit(X_train_std, y_train) # 餵入training data，並訓練出分類器'svm_linear'\n",
    "\n",
    "#predict\n",
    "y_pred = svm_linear.predict(X_test_std) #testing data餵入分類器'svm_linear'，得到每筆的預測結果'y_pred'\n",
    "print('Linear SVM testing result:',y_pred)\n",
    "print('Misclassified samples: %d' % (y_test != y_pred).sum()) \n",
    "print('Accuracy: %.4f' % accuracy_score(y_test, y_pred)) #評估正確性\n",
    "\n",
    "\n",
    "# complete X_std, y\n",
    "X_std = np.concatenate((X_train_std, X_test_std),axis=0)\n",
    "y = np.concatenate((y_train, y_test),axis=0)\n",
    "\n",
    "#cross validation\n",
    "svm_cross = SVC(kernel='linear',C=2) \n",
    "scores = cross_val_score(svm_cross ,X_std ,y ,cv=5)\n",
    "print(\"Cross Validation result scores\",scores)\n",
    "print(\"(Cross Validation) Accuracy: %0.4f (+/- %0.4f)\" % (scores.mean(), scores.std() * 2))\n",
    "\n",
    "print('\\n==============================feature selection============================================================')\n",
    "#import features\n",
    "coef = svm_linear.coef_[0]#對應每個feature的重要係數\n",
    "coef = np.absolute(coef)\n",
    "svm_indices = np.argsort(coef)[::-1]\n",
    "\n",
    "print('Importance of features:')\n",
    "for f in range(20):\n",
    "    print((\"%4d) %-*s %f\" % (f+1 ,30 ,features[svm_indices[f]],coef[svm_indices[f]])))\n",
    "\n",
    "# 取前 17 個feature\n",
    "X_train_RD = np.array(X_train_std[:,svm_indices[0]])\n",
    "X_test_RD = np.array(X_test_std[:,svm_indices[0]])\n",
    "for i in svm_indices[0:17]:\n",
    "    X_train_RD = np.vstack([X_train_RD,X_train_std[:,i]]) \n",
    "    X_test_RD = np.vstack([X_test_RD,X_test_std[:,i]])\n",
    "X_train_RD = X_train_RD.T\n",
    "X_test_RD = X_test_RD.T\n",
    "\n",
    "#train model after feature select\n",
    "linear_svm_select = SVC(kernel='linear',C=2 ,random_state=0)\n",
    "linear_svm_select.fit(X_train_RD,y_train)\n",
    "\n",
    "#predict\n",
    "y_pred = linear_svm_select.predict(X_test_RD)\n",
    "print('After feature select')\n",
    "print('Linear SVM testing result:',y_pred)\n",
    "print('Misclassified samples: %d' % (y_test != y_pred).sum()) \n",
    "print('(After feature select) Accuracy: %.4f' % accuracy_score(y_test, y_pred)) #評估正確性\n",
    "\n",
    "X_std_select = np.concatenate((X_train_RD, X_test_RD),axis=0)\n",
    "y = np.concatenate((y_train, y_test),axis=0)\n",
    "\n",
    "svm_cross = SVC(kernel='linear' ,C=2) \n",
    "scores = cross_val_score(svm_cross, X_std_select, y, cv=5)\n",
    "print(\"Cross Validation result scores\",scores)\n",
    "print(\"(After feature select)(Cross Validation) Accuracy: %0.4f (+/- %0.4f)\" % (scores.mean(), scores.std() * 2))"
   ]
  },
  {
   "cell_type": "markdown",
   "metadata": {},
   "source": [
    "### Decision Tree : feature importances"
   ]
  },
  {
   "cell_type": "code",
   "execution_count": 30,
   "metadata": {},
   "outputs": [
    {
     "name": "stdout",
     "output_type": "stream",
     "text": [
      "Decision tree testing result: [ 0.  0.  1.  0.  0.  1.  0.  1.  0.  1.  1.  0.  0.  0.  0.  0.  0.  1.\n",
      "  0.  1.  1.  0.  0.  0.  0.  1.  0.  1.  0.  0.  0.  1.  1.  1.  0.  0.\n",
      "  0.  0.  0.  1.  1.  0.  0.  0.  1.  1.  1.  1.  1.  1.  0.  0.  0.  0.\n",
      "  0.  1.  1.  1.  1.  0.  1.]\n",
      "Misclassified samples: 8\n",
      "Accuracy: 0.8689\n",
      "Cross Validation every accuracy:  [ 0.78688525  0.80327869  0.7704918   0.73770492  0.88135593]\n",
      "(Cross Validation)Accuracy: 0.7959 (+/- 0.0958)\n",
      "\n",
      "==============================feature selection============================================================\n",
      "   1) cp_4.0                         0.468407\n",
      "   2) ca_0.0                         0.178132\n",
      "   3) thal_7.0                       0.112272\n",
      "   4) thal_3.0                       0.109475\n",
      "   5) thalach                        0.063198\n",
      "   6) age                            0.044521\n",
      "   7) restbp                         0.023995\n",
      "   8) ca_1.0                         0.000000\n",
      "   9) slope_3.0                      0.000000\n",
      "  10) chol                           0.000000\n",
      "Decision tree testing result: [ 0.  0.  1.  0.  0.  1.  0.  1.  0.  1.  1.  0.  0.  0.  0.  0.  0.  1.\n",
      "  0.  1.  1.  0.  1.  0.  0.  1.  0.  1.  0.  0.  0.  1.  1.  1.  0.  0.\n",
      "  0.  0.  0.  1.  1.  0.  0.  0.  1.  1.  1.  1.  1.  1.  0.  0.  0.  0.\n",
      "  0.  1.  1.  1.  1.  0.  1.]\n",
      "Misclassified samples: 7\n",
      "Accuracy: 0.8852\n",
      "Cross Validation every accuracy:  [ 0.81967213  0.80327869  0.83606557  0.73770492  0.88135593]\n",
      "(Feature Selection)(Cross Validation)Accuracy: 0.8156 (+/- 0.0937)\n"
     ]
    }
   ],
   "source": [
    "from sklearn.tree import DecisionTreeClassifier\n",
    "#train tree model\n",
    "tree = DecisionTreeClassifier(criterion='gini',max_depth=3)\n",
    "tree.fit(X_train_std,y_train)\n",
    "#predict\n",
    "y_pred = tree.predict(X_test_std)\n",
    "print('Decision tree testing result:',y_pred)\n",
    "print('Misclassified samples: %d' % (y_test != y_pred).sum())\n",
    "print('Accuracy: %.4f' % accuracy_score(y_test, y_pred))\n",
    "\n",
    "from sklearn.model_selection import cross_val_score\n",
    "X_std = np.concatenate((X_train_std, X_test_std), axis=0)\n",
    "y = np.concatenate((y_train, y_test), axis=0)\n",
    "tree_cross = DecisionTreeClassifier(criterion='gini',max_depth=3)\n",
    "#cv:切割為cv份\n",
    "scores = cross_val_score(tree_cross, X_std, y, cv = 5)\n",
    "print(\"Cross Validation every accuracy: \",scores)\n",
    "print(\"(Cross Validation)Accuracy: %0.4f (+/- %0.4f)\" % (scores.mean(), scores.std()*2))\n",
    "\n",
    "print('\\n==============================feature selection============================================================')\n",
    "importances = tree.feature_importances_\n",
    "indices = np.argsort(importances)[::-1]\n",
    "for f in range(10):\n",
    "    print((\"%4d) %-*s %f\" % (f+1,30,features[indices[f]],importances[indices[f]])))\n",
    "\n",
    "#取前5個features\n",
    "X_train_RD = np.array(X_train_std[:,indices[0]])\n",
    "X_test_RD = np.array(X_test_std[:,indices[0]])\n",
    "for i in indices[0:5]:\n",
    "    X_train_RD = np.vstack([X_train_RD,X_train_std[:,i]]) \n",
    "    X_test_RD = np.vstack([X_test_RD,X_test_std[:,i]]) \n",
    "X_train_RD = X_train_RD.T\n",
    "X_test_RD = X_test_RD.T\n",
    "\n",
    "#train tree model\n",
    "tree_select = DecisionTreeClassifier(criterion='gini',max_depth=3)\n",
    "tree_select.fit(X_train_RD,y_train)\n",
    "\n",
    "#predict\n",
    "y_pred = tree_select.predict(X_test_RD)\n",
    "print('Decision tree testing result:',y_pred)\n",
    "print('Misclassified samples: %d' % (y_test != y_pred).sum())\n",
    "print('Accuracy: %.4f' % accuracy_score(y_test, y_pred))\n",
    "\n",
    "#cross validation\n",
    "X_std_select = np.concatenate((X_train_RD, X_test_RD),axis=0)\n",
    "y = np.concatenate((y_train, y_test),axis=0)\n",
    "\n",
    "tree_cross = DecisionTreeClassifier(criterion='gini',max_depth=3)\n",
    "#cv:切割為cv份\n",
    "scores = cross_val_score(tree_cross, X_std_select, y, cv = 5)\n",
    "print(\"Cross Validation every accuracy: \",scores)\n",
    "print(\"(Feature Selection)(Cross Validation)Accuracy: %0.4f (+/- %0.4f)\" % (scores.mean(), scores.std()*2))"
   ]
  },
  {
   "cell_type": "markdown",
   "metadata": {},
   "source": [
    "<center style=\"color:blue;font-size:30px;font-family:Microsoft JhengHei\"> 跟著做10開頭 </center>"
   ]
  },
  {
   "cell_type": "markdown",
   "metadata": {},
   "source": [
    "# <center> Save and Load model </center>"
   ]
  },
  {
   "cell_type": "code",
   "execution_count": 31,
   "metadata": {},
   "outputs": [],
   "source": [
    "# save model\n",
    "import pickle\n",
    "with open('svm.pkl', 'wb') as f:\n",
    "    pickle.dump(svm_linear, f)"
   ]
  },
  {
   "cell_type": "code",
   "execution_count": 32,
   "metadata": {},
   "outputs": [
    {
     "name": "stdout",
     "output_type": "stream",
     "text": [
      "[ 0.]\n"
     ]
    }
   ],
   "source": [
    "# load the model\n",
    "import numpy as np\n",
    "\n",
    "with open('svm.pkl', 'rb') as f:\n",
    "    svm = pickle.load(f)\n",
    "    \n",
    "test = np.array([[-0.75635158, -0.10203197, -0.04491364,  1.38751461, -0.71832602,\n",
    "       -0.70272837,  0.70272837, -0.29189346,  2.1821789 , -0.63154092,\n",
    "       -0.92819096,  0.41803981, -0.41803981, -0.96747093, -0.12964074,\n",
    "        1.        ,  0.72250438, -0.72250438, -0.91287093,  1.0422125 ,\n",
    "       -0.26607604,  0.82495791, -0.52955007, -0.36171967, -0.27487371,\n",
    "        0.882843  , -0.26607604, -0.76948376]])\n",
    "print(svm.predict(test))"
   ]
  },
  {
   "cell_type": "markdown",
   "metadata": {},
   "source": [
    "# <center> ROC curve: all model</center>"
   ]
  },
  {
   "cell_type": "code",
   "execution_count": 33,
   "metadata": {},
   "outputs": [
    {
     "data": {
      "image/png": "[encoded data removed]",
      "text/plain": [
       "<matplotlib.figure.Figure at 0x18ce0df4a20>"
      ]
     },
     "metadata": {},
     "output_type": "display_data"
    }
   ],
   "source": [
    "from sklearn.metrics import roc_curve, auc\n",
    "# decision model\n",
    "fpr_decision, tpr_decision, thres = roc_curve(y_test,y_predprob_po_decision)\n",
    "roc_auc_decision = auc(fpr_decision, tpr_decision)\n",
    "# linear svm model\n",
    "fpr_linear, tpr_linear, thres = roc_curve(y_test, y_predprob_po_linear)\n",
    "roc_auc_linear = auc(fpr_linear, tpr_linear)\n",
    "# rbf svm model\n",
    "fpr_rbf, tpr_rbf, thres = roc_curve(y_test, y_predprob_po_rbf)\n",
    "roc_auc_rbf = auc(fpr_rbf, tpr_rbf)\n",
    "# knn  model\n",
    "fpr_knn, tpr_knn, thres = roc_curve(y_test, y_predprob_po_knn)\n",
    "roc_auc_knn = auc(fpr_knn, tpr_knn)\n",
    "# random forest model\n",
    "fpr_forest, tpr_forest, thres = roc_curve(y_test, y_predprob_po_forest)\n",
    "roc_auc_forest = auc(fpr_forest, tpr_forest)\n",
    "# adaboost\n",
    "fpr_ada, tpr_ada, thres = roc_curve(y_test, y_predprob_po_ada)\n",
    "roc_auc_ada = auc(fpr_ada, tpr_ada)\n",
    "\n",
    "plt.title('Receiver Operating Characteristic(ROC)')\n",
    "plt.plot(fpr_decision, tpr_decision, 'b', label='decision tree = %0.2f'% roc_auc_decision)\n",
    "plt.plot(fpr_rbf, tpr_rbf, 'm', label='rbf svm = %0.2f'% roc_auc_rbf)\n",
    "plt.plot(fpr_knn, tpr_knn, 'c', label='knn = %0.2f'% roc_auc_knn)\n",
    "plt.plot(fpr_forest, tpr_forest, 'y', label='forest = %0.2f'% roc_auc_forest)\n",
    "plt.plot(fpr_ada, tpr_ada, 'g', label='adaboost = %0.2f'% roc_auc_ada)\n",
    "plt.plot(fpr_linear, tpr_linear, 'r', label='linear svm = %0.2f'% roc_auc_linear)\n",
    "\n",
    "plt.legend(loc='lower right')\n",
    "plt.plot([0, 1], [0, 1], color='k', linestyle='--')  \n",
    "plt.xlim([0.0, 1.0])  \n",
    "plt.ylim([0.0, 1.05])  \n",
    "plt.xlabel('False Positive Rate')  \n",
    "plt.ylabel('True Positive Rate')  \n",
    "plt.show()"
   ]
  },
  {
   "cell_type": "markdown",
   "metadata": {},
   "source": [
    "<center style=\"color:blue;font-size:30px;font-family:Microsoft JhengHei\"> 跟著做11開頭 </center>\n",
    "<br>\n",
    "<center style=\"color:blue;font-size:20px;font-family:Microsoft JhengHei\"> 改成其他classification model </center>"
   ]
  },
  {
   "cell_type": "markdown",
   "metadata": {},
   "source": [
    "# <center> Sklearn Pipeline </center>"
   ]
  },
  {
   "cell_type": "code",
   "execution_count": 34,
   "metadata": {},
   "outputs": [
    {
     "name": "stdout",
     "output_type": "stream",
     "text": [
      "Misclassified samples: 6\n",
      "Accuracy: 0.9016\n",
      "precision:  0.901639344262\n",
      "recall:  0.901639344262\n",
      "fscore:  0.901639344262\n"
     ]
    }
   ],
   "source": [
    "from sklearn.metrics import accuracy_score\n",
    "from sklearn.metrics import precision_recall_fscore_support\n",
    "from sklearn.model_selection import train_test_split\n",
    "from sklearn.pipeline import Pipeline\n",
    "from sklearn.preprocessing import Imputer\n",
    "from sklearn.preprocessing import OneHotEncoder\n",
    "from sklearn.preprocessing import StandardScaler\n",
    "from sklearn.svm import SVC\n",
    "import matplotlib.pylab as plt\n",
    "import pandas as pd\n",
    "import numpy as np\n",
    "from sklearn.tree import DecisionTreeClassifier\n",
    "\n",
    "#load data\n",
    "df = pd.read_csv('cleveland.dat', header=None, sep=', ', engine='python')\n",
    "df.columns = [\"age\", \"sex\", \"cp\", \"restbp\", \"chol\", \"fbs\", \"restecg\", \n",
    "              \"thalach\", \"exang\", \"oldpeak\", \"slope\", \"ca\", \"thal\", \"num\"]\n",
    "for i in range(1,5):\n",
    "    df['num'] = df['num'].replace(i,1)\n",
    "\n",
    "#處理異常值\n",
    "df = df.replace('?', np.nan)\n",
    "\n",
    "#資料切割\n",
    "X = df.drop('num', axis=1).values\n",
    "y = df['num'].values\n",
    "X_train, X_test, y_train, y_test = train_test_split(X, y, test_size=0.2, random_state=0)\n",
    "\n",
    "#類別型特徵列表\n",
    "catego_features = ['sex','cp','fbs','restecg','exang','slope','ca','thal']\n",
    "catego_features_index = []\n",
    "for str in catego_features:\n",
    "    catego_features_index.append(df.columns.tolist().index(str))\n",
    "\n",
    "#PIPELINE setting and training\n",
    "pipe = Pipeline([('imr', Imputer(missing_values='NaN', strategy='most_frequent', axis=0)),\n",
    "                ('ohe', OneHotEncoder(categorical_features=catego_features_index, sparse=False)),\n",
    "                ('scl', StandardScaler()),\n",
    "                ('clf', SVC(kernel='rbf', random_state=0, C=2.0))])\n",
    "pipe.fit(X_train, y_train)\n",
    "\n",
    "#predict\n",
    "y_pred = pipe.predict(X_test)\n",
    "\n",
    "print('Misclassified samples: %d' % (y_test != y_pred).sum())\n",
    "print('Accuracy: %.4f' % accuracy_score(y_test, y_pred))\n",
    "# other measurements\n",
    "precision,recall,fscore,support = precision_recall_fscore_support(y_test, y_pred, average='micro')\n",
    "print(\"precision: \", precision)\n",
    "print(\"recall: \", recall)\n",
    "print(\"fscore: \", fscore)"
   ]
  },
  {
   "cell_type": "code",
   "execution_count": null,
   "metadata": {},
   "outputs": [],
   "source": []
  }
 ],
 "metadata": {
  "kernelspec": {
   "display_name": "Python 3",
   "language": "python",
   "name": "python3"
  },
  "language_info": {
   "codemirror_mode": {
    "name": "ipython",
    "version": 3
   },
   "file_extension": ".py",
   "mimetype": "text/x-python",
   "name": "python",
   "nbconvert_exporter": "python",
   "pygments_lexer": "ipython3",
   "version": "3.7.4"
  }
 },
 "nbformat": 4,
 "nbformat_minor": 2
}
